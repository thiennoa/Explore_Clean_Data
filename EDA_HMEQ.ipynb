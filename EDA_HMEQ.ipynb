{
 "cells": [
  {
   "cell_type": "markdown",
   "metadata": {},
   "source": [
    "# Exploratory Data Analysis & Data Cleaning on the DataSet HMEQ\n",
    "#### by Jonathan Edwin\n",
    "\n",
    "##### The data set HMEQ reports characteristics and delinquency information for 5,960 home equity loans. A home equity loan is a loan where the obligor uses the equity of his or her home as the underlying collateral. The data set has the following characteristics:\n",
    "###### . BAD: 1 = applicant defaulted on loan or seriously delinquent; 0 = applicant paid loan\n",
    "###### . LOAN: Amount of the loan request\n",
    "###### . MORTDUE: Amount due on existing mortgage\n",
    "###### . VALUE: Value of current property\n",
    "###### . REASON: DebtCon = debt consolidation; HomeImp = home improvement\n",
    "###### . JOB: Occupational categories\n",
    "###### . YOJ: Years at present job\n",
    "###### . DEROG: Number of major derogatory reports\n",
    "###### . DELINQ: Number of delinquent credit lines\n",
    "###### . CLAGE: Age of oldest credit line in months\n",
    "###### . NINQ: Number of recent credit inquiries\n",
    "###### . CLNO: Number of credit lines\n",
    "###### . DEBTINC: Debt-to-income ratio\n"
   ]
  },
  {
   "cell_type": "code",
   "execution_count": 1,
   "metadata": {},
   "outputs": [],
   "source": [
    "import numpy as np\n",
    "import pandas as pd\n",
    "import matplotlib.pyplot as plt\n",
    "import seaborn as sns"
   ]
  },
  {
   "cell_type": "markdown",
   "metadata": {},
   "source": [
    "###### We tried to import the csv as dataframe using Pandas, but some of the line has problem, so we declared the parameter \"error_bad_lines\" to skip some of the row"
   ]
  },
  {
   "cell_type": "code",
   "execution_count": 2,
   "metadata": {},
   "outputs": [
    {
     "name": "stderr",
     "output_type": "stream",
     "text": [
      "b'Skipping line 20: expected 13 fields, saw 14\\nSkipping line 3740: expected 13 fields, saw 14\\nSkipping line 5467: expected 13 fields, saw 17\\nSkipping line 5624: expected 13 fields, saw 15\\n'\n"
     ]
    }
   ],
   "source": [
    "data = pd.read_csv('hmeq_raw.csv', error_bad_lines= False)"
   ]
  },
  {
   "cell_type": "code",
   "execution_count": 3,
   "metadata": {},
   "outputs": [
    {
     "data": {
      "text/html": [
       "<div>\n",
       "<style scoped>\n",
       "    .dataframe tbody tr th:only-of-type {\n",
       "        vertical-align: middle;\n",
       "    }\n",
       "\n",
       "    .dataframe tbody tr th {\n",
       "        vertical-align: top;\n",
       "    }\n",
       "\n",
       "    .dataframe thead th {\n",
       "        text-align: right;\n",
       "    }\n",
       "</style>\n",
       "<table border=\"1\" class=\"dataframe\">\n",
       "  <thead>\n",
       "    <tr style=\"text-align: right;\">\n",
       "      <th></th>\n",
       "      <th>BAD</th>\n",
       "      <th>LOAN</th>\n",
       "      <th>MORTDUE</th>\n",
       "      <th>VALUE</th>\n",
       "      <th>REASON</th>\n",
       "      <th>JOB</th>\n",
       "      <th>YOJ</th>\n",
       "      <th>DEROG</th>\n",
       "      <th>DELINQ</th>\n",
       "      <th>CLAGE</th>\n",
       "      <th>NINQ</th>\n",
       "      <th>CLNO</th>\n",
       "      <th>DEBTINC</th>\n",
       "    </tr>\n",
       "  </thead>\n",
       "  <tbody>\n",
       "    <tr>\n",
       "      <th>0</th>\n",
       "      <td>1</td>\n",
       "      <td>1100</td>\n",
       "      <td>25860.0</td>\n",
       "      <td>39025.0</td>\n",
       "      <td>HomeImp</td>\n",
       "      <td>Other</td>\n",
       "      <td>10.5</td>\n",
       "      <td>0.0</td>\n",
       "      <td>0.0</td>\n",
       "      <td>94.366667</td>\n",
       "      <td>1.0</td>\n",
       "      <td>9.0</td>\n",
       "      <td>NaN</td>\n",
       "    </tr>\n",
       "    <tr>\n",
       "      <th>1</th>\n",
       "      <td>1</td>\n",
       "      <td>1300</td>\n",
       "      <td>70053.0</td>\n",
       "      <td>68400.0</td>\n",
       "      <td>HomeImp</td>\n",
       "      <td>Other</td>\n",
       "      <td>7.0</td>\n",
       "      <td>0.0</td>\n",
       "      <td>2.0</td>\n",
       "      <td>121.833333</td>\n",
       "      <td>0.0</td>\n",
       "      <td>14.0</td>\n",
       "      <td>NaN</td>\n",
       "    </tr>\n",
       "    <tr>\n",
       "      <th>2</th>\n",
       "      <td>1</td>\n",
       "      <td>1500</td>\n",
       "      <td>13500.0</td>\n",
       "      <td>16700.0</td>\n",
       "      <td>HomeImp</td>\n",
       "      <td>Other</td>\n",
       "      <td>4.0</td>\n",
       "      <td>0.0</td>\n",
       "      <td>0.0</td>\n",
       "      <td>149.466667</td>\n",
       "      <td>1.0</td>\n",
       "      <td>10.0</td>\n",
       "      <td>NaN</td>\n",
       "    </tr>\n",
       "    <tr>\n",
       "      <th>3</th>\n",
       "      <td>1</td>\n",
       "      <td>1500</td>\n",
       "      <td>NaN</td>\n",
       "      <td>NaN</td>\n",
       "      <td>NaN</td>\n",
       "      <td>NaN</td>\n",
       "      <td>NaN</td>\n",
       "      <td>NaN</td>\n",
       "      <td>NaN</td>\n",
       "      <td>NaN</td>\n",
       "      <td>NaN</td>\n",
       "      <td>NaN</td>\n",
       "      <td>NaN</td>\n",
       "    </tr>\n",
       "    <tr>\n",
       "      <th>4</th>\n",
       "      <td>0</td>\n",
       "      <td>1700</td>\n",
       "      <td>97800.0</td>\n",
       "      <td>112000.0</td>\n",
       "      <td>HomeImp</td>\n",
       "      <td>Office</td>\n",
       "      <td>3.0</td>\n",
       "      <td>0.0</td>\n",
       "      <td>0.0</td>\n",
       "      <td>93.333333</td>\n",
       "      <td>0.0</td>\n",
       "      <td>14.0</td>\n",
       "      <td>NaN</td>\n",
       "    </tr>\n",
       "  </tbody>\n",
       "</table>\n",
       "</div>"
      ],
      "text/plain": [
       "   BAD  LOAN  MORTDUE     VALUE   REASON     JOB   YOJ  DEROG  DELINQ  \\\n",
       "0    1  1100  25860.0   39025.0  HomeImp   Other  10.5    0.0     0.0   \n",
       "1    1  1300  70053.0   68400.0  HomeImp   Other   7.0    0.0     2.0   \n",
       "2    1  1500  13500.0   16700.0  HomeImp   Other   4.0    0.0     0.0   \n",
       "3    1  1500      NaN       NaN      NaN     NaN   NaN    NaN     NaN   \n",
       "4    0  1700  97800.0  112000.0  HomeImp  Office   3.0    0.0     0.0   \n",
       "\n",
       "        CLAGE  NINQ  CLNO  DEBTINC  \n",
       "0   94.366667   1.0   9.0      NaN  \n",
       "1  121.833333   0.0  14.0      NaN  \n",
       "2  149.466667   1.0  10.0      NaN  \n",
       "3         NaN   NaN   NaN      NaN  \n",
       "4   93.333333   0.0  14.0      NaN  "
      ]
     },
     "execution_count": 3,
     "metadata": {},
     "output_type": "execute_result"
    }
   ],
   "source": [
    "data.head()"
   ]
  },
  {
   "cell_type": "markdown",
   "metadata": {},
   "source": [
    "###### Mencari Info data awal ini dari 5958 entries, hanya 2 dari 13 columns yang tidak memiliki missing value(Column BAD dan LOAN)\n",
    "###### Disini kita juga menemukan bahwa  BAD dan LOAN adalah angka bulat(int), REASON dan JOB adalah String(object), dan sisanya adalah float"
   ]
  },
  {
   "cell_type": "code",
   "execution_count": 6,
   "metadata": {},
   "outputs": [
    {
     "name": "stdout",
     "output_type": "stream",
     "text": [
      "<class 'pandas.core.frame.DataFrame'>\n",
      "RangeIndex: 5958 entries, 0 to 5957\n",
      "Data columns (total 13 columns):\n",
      "BAD        5958 non-null int64\n",
      "LOAN       5958 non-null int64\n",
      "MORTDUE    5440 non-null float64\n",
      "VALUE      5846 non-null float64\n",
      "REASON     5706 non-null object\n",
      "JOB        5679 non-null object\n",
      "YOJ        5444 non-null float64\n",
      "DEROG      5250 non-null float64\n",
      "DELINQ     5378 non-null float64\n",
      "CLAGE      5650 non-null float64\n",
      "NINQ       5448 non-null float64\n",
      "CLNO       5736 non-null float64\n",
      "DEBTINC    4691 non-null float64\n",
      "dtypes: float64(9), int64(2), object(2)\n",
      "memory usage: 605.2+ KB\n"
     ]
    }
   ],
   "source": [
    "data.info()"
   ]
  },
  {
   "cell_type": "markdown",
   "metadata": {},
   "source": [
    "##### Melakukan jumlah untuk setiap column memiliki berapa jumlah Missing Value"
   ]
  },
  {
   "cell_type": "code",
   "execution_count": 7,
   "metadata": {},
   "outputs": [
    {
     "name": "stdout",
     "output_type": "stream",
     "text": [
      "BAD - 0\n",
      "LOAN - 0\n",
      "MORTDUE - 518\n",
      "VALUE - 112\n",
      "REASON - 252\n",
      "JOB - 279\n",
      "YOJ - 514\n",
      "DEROG - 708\n",
      "DELINQ - 580\n",
      "CLAGE - 308\n",
      "NINQ - 510\n",
      "CLNO - 222\n",
      "DEBTINC - 1267\n"
     ]
    }
   ],
   "source": [
    "nama_col = data.columns\n",
    "for i in nama_col:\n",
    "    print(i + \" - \" +str(data[i].isnull().sum()))"
   ]
  },
  {
   "cell_type": "markdown",
   "metadata": {},
   "source": [
    "### Jika kita coba lakukan drop row yang memiliki missing value, akan menghasilnya hanya 3363 data. Artinya kehilangan 2595 row atau sekitar 43% data. \n",
    "## Oleh karena itu, TIDAK DISARANKAN untuk langsung drop row yang memiliki missing value"
   ]
  },
  {
   "cell_type": "code",
   "execution_count": 8,
   "metadata": {},
   "outputs": [],
   "source": [
    "data_dropna = data.dropna()"
   ]
  },
  {
   "cell_type": "code",
   "execution_count": 9,
   "metadata": {},
   "outputs": [
    {
     "name": "stdout",
     "output_type": "stream",
     "text": [
      "<class 'pandas.core.frame.DataFrame'>\n",
      "Int64Index: 3363 entries, 5 to 5957\n",
      "Data columns (total 13 columns):\n",
      "BAD        3363 non-null int64\n",
      "LOAN       3363 non-null int64\n",
      "MORTDUE    3363 non-null float64\n",
      "VALUE      3363 non-null float64\n",
      "REASON     3363 non-null object\n",
      "JOB        3363 non-null object\n",
      "YOJ        3363 non-null float64\n",
      "DEROG      3363 non-null float64\n",
      "DELINQ     3363 non-null float64\n",
      "CLAGE      3363 non-null float64\n",
      "NINQ       3363 non-null float64\n",
      "CLNO       3363 non-null float64\n",
      "DEBTINC    3363 non-null float64\n",
      "dtypes: float64(9), int64(2), object(2)\n",
      "memory usage: 367.8+ KB\n"
     ]
    }
   ],
   "source": [
    "data_dropna.info()"
   ]
  },
  {
   "cell_type": "markdown",
   "metadata": {},
   "source": [
    "#### Data Describe akan menunjukkan statistik dasar mengenai data numeric tersebut tiap kolomnya. Dari sini kita bisa mendapat beberapa Insight seperti:\n",
    "\n",
    "###### - Pada Column BAD yang seharusnya terisi oleh nilai 0 atau 1 , tapi memiliki MAX bernilai 10\n",
    "###### - Terdapat nilai negatif di min untuk column VALUE dan DEBTINC\n",
    "###### - Mean dan std di column VALUE berbeda jauh, terdapat outlier yang mempengaruhi mean\n",
    "###### - Column DEROG dan DELINQ 75% datanya masih 0.00 sehingga terdapat outlier mendekati max\n",
    "\n",
    "#### Menunggukan nunique membuat kita mengetahui ada berapa jumlah distinct value tiap column"
   ]
  },
  {
   "cell_type": "code",
   "execution_count": 10,
   "metadata": {},
   "outputs": [
    {
     "data": {
      "text/html": [
       "<div>\n",
       "<style scoped>\n",
       "    .dataframe tbody tr th:only-of-type {\n",
       "        vertical-align: middle;\n",
       "    }\n",
       "\n",
       "    .dataframe tbody tr th {\n",
       "        vertical-align: top;\n",
       "    }\n",
       "\n",
       "    .dataframe thead th {\n",
       "        text-align: right;\n",
       "    }\n",
       "</style>\n",
       "<table border=\"1\" class=\"dataframe\">\n",
       "  <thead>\n",
       "    <tr style=\"text-align: right;\">\n",
       "      <th></th>\n",
       "      <th>BAD</th>\n",
       "      <th>LOAN</th>\n",
       "      <th>MORTDUE</th>\n",
       "      <th>VALUE</th>\n",
       "      <th>YOJ</th>\n",
       "      <th>DEROG</th>\n",
       "      <th>DELINQ</th>\n",
       "      <th>CLAGE</th>\n",
       "      <th>NINQ</th>\n",
       "      <th>CLNO</th>\n",
       "      <th>DEBTINC</th>\n",
       "    </tr>\n",
       "  </thead>\n",
       "  <tbody>\n",
       "    <tr>\n",
       "      <th>count</th>\n",
       "      <td>5958.000000</td>\n",
       "      <td>5.958000e+03</td>\n",
       "      <td>5440.000000</td>\n",
       "      <td>5.846000e+03</td>\n",
       "      <td>5444.000000</td>\n",
       "      <td>5250.000000</td>\n",
       "      <td>5378.000000</td>\n",
       "      <td>5650.000000</td>\n",
       "      <td>5448.000000</td>\n",
       "      <td>5736.000000</td>\n",
       "      <td>4691.000000</td>\n",
       "    </tr>\n",
       "    <tr>\n",
       "      <th>mean</th>\n",
       "      <td>0.201242</td>\n",
       "      <td>1.972367e+04</td>\n",
       "      <td>73744.567132</td>\n",
       "      <td>2.581446e+05</td>\n",
       "      <td>8.918488</td>\n",
       "      <td>0.254667</td>\n",
       "      <td>0.449610</td>\n",
       "      <td>179.803255</td>\n",
       "      <td>1.186123</td>\n",
       "      <td>21.293410</td>\n",
       "      <td>35.188839</td>\n",
       "    </tr>\n",
       "    <tr>\n",
       "      <th>std</th>\n",
       "      <td>0.420578</td>\n",
       "      <td>8.600137e+04</td>\n",
       "      <td>44421.670153</td>\n",
       "      <td>1.177309e+07</td>\n",
       "      <td>7.569479</td>\n",
       "      <td>0.846193</td>\n",
       "      <td>1.127442</td>\n",
       "      <td>85.816165</td>\n",
       "      <td>1.728776</td>\n",
       "      <td>10.138115</td>\n",
       "      <td>73.627551</td>\n",
       "    </tr>\n",
       "    <tr>\n",
       "      <th>min</th>\n",
       "      <td>0.000000</td>\n",
       "      <td>1.100000e+03</td>\n",
       "      <td>2063.000000</td>\n",
       "      <td>-2.500000e+04</td>\n",
       "      <td>0.000000</td>\n",
       "      <td>0.000000</td>\n",
       "      <td>0.000000</td>\n",
       "      <td>0.000000</td>\n",
       "      <td>0.000000</td>\n",
       "      <td>0.000000</td>\n",
       "      <td>-21.719596</td>\n",
       "    </tr>\n",
       "    <tr>\n",
       "      <th>25%</th>\n",
       "      <td>0.000000</td>\n",
       "      <td>1.110000e+04</td>\n",
       "      <td>46309.000000</td>\n",
       "      <td>6.608575e+04</td>\n",
       "      <td>3.000000</td>\n",
       "      <td>0.000000</td>\n",
       "      <td>0.000000</td>\n",
       "      <td>115.131877</td>\n",
       "      <td>0.000000</td>\n",
       "      <td>14.750000</td>\n",
       "      <td>29.136864</td>\n",
       "    </tr>\n",
       "    <tr>\n",
       "      <th>50%</th>\n",
       "      <td>0.000000</td>\n",
       "      <td>1.635000e+04</td>\n",
       "      <td>65019.000000</td>\n",
       "      <td>8.924500e+04</td>\n",
       "      <td>7.000000</td>\n",
       "      <td>0.000000</td>\n",
       "      <td>0.000000</td>\n",
       "      <td>173.480399</td>\n",
       "      <td>1.000000</td>\n",
       "      <td>20.000000</td>\n",
       "      <td>34.816960</td>\n",
       "    </tr>\n",
       "    <tr>\n",
       "      <th>75%</th>\n",
       "      <td>0.000000</td>\n",
       "      <td>2.330000e+04</td>\n",
       "      <td>91421.250000</td>\n",
       "      <td>1.198078e+05</td>\n",
       "      <td>13.000000</td>\n",
       "      <td>0.000000</td>\n",
       "      <td>0.000000</td>\n",
       "      <td>231.604045</td>\n",
       "      <td>2.000000</td>\n",
       "      <td>26.000000</td>\n",
       "      <td>39.008591</td>\n",
       "    </tr>\n",
       "    <tr>\n",
       "      <th>max</th>\n",
       "      <td>10.000000</td>\n",
       "      <td>6.600000e+06</td>\n",
       "      <td>399550.000000</td>\n",
       "      <td>9.001400e+08</td>\n",
       "      <td>41.000000</td>\n",
       "      <td>10.000000</td>\n",
       "      <td>15.000000</td>\n",
       "      <td>1168.233561</td>\n",
       "      <td>17.000000</td>\n",
       "      <td>71.000000</td>\n",
       "      <td>4537.512708</td>\n",
       "    </tr>\n",
       "  </tbody>\n",
       "</table>\n",
       "</div>"
      ],
      "text/plain": [
       "               BAD          LOAN        MORTDUE         VALUE          YOJ  \\\n",
       "count  5958.000000  5.958000e+03    5440.000000  5.846000e+03  5444.000000   \n",
       "mean      0.201242  1.972367e+04   73744.567132  2.581446e+05     8.918488   \n",
       "std       0.420578  8.600137e+04   44421.670153  1.177309e+07     7.569479   \n",
       "min       0.000000  1.100000e+03    2063.000000 -2.500000e+04     0.000000   \n",
       "25%       0.000000  1.110000e+04   46309.000000  6.608575e+04     3.000000   \n",
       "50%       0.000000  1.635000e+04   65019.000000  8.924500e+04     7.000000   \n",
       "75%       0.000000  2.330000e+04   91421.250000  1.198078e+05    13.000000   \n",
       "max      10.000000  6.600000e+06  399550.000000  9.001400e+08    41.000000   \n",
       "\n",
       "             DEROG       DELINQ        CLAGE         NINQ         CLNO  \\\n",
       "count  5250.000000  5378.000000  5650.000000  5448.000000  5736.000000   \n",
       "mean      0.254667     0.449610   179.803255     1.186123    21.293410   \n",
       "std       0.846193     1.127442    85.816165     1.728776    10.138115   \n",
       "min       0.000000     0.000000     0.000000     0.000000     0.000000   \n",
       "25%       0.000000     0.000000   115.131877     0.000000    14.750000   \n",
       "50%       0.000000     0.000000   173.480399     1.000000    20.000000   \n",
       "75%       0.000000     0.000000   231.604045     2.000000    26.000000   \n",
       "max      10.000000    15.000000  1168.233561    17.000000    71.000000   \n",
       "\n",
       "           DEBTINC  \n",
       "count  4691.000000  \n",
       "mean     35.188839  \n",
       "std      73.627551  \n",
       "min     -21.719596  \n",
       "25%      29.136864  \n",
       "50%      34.816960  \n",
       "75%      39.008591  \n",
       "max    4537.512708  "
      ]
     },
     "execution_count": 10,
     "metadata": {},
     "output_type": "execute_result"
    }
   ],
   "source": [
    "data.describe()"
   ]
  },
  {
   "cell_type": "code",
   "execution_count": 13,
   "metadata": {},
   "outputs": [
    {
     "data": {
      "text/plain": [
       "BAD           4\n",
       "LOAN        541\n",
       "MORTDUE    5049\n",
       "VALUE      5381\n",
       "REASON        3\n",
       "JOB           7\n",
       "YOJ          99\n",
       "DEROG        11\n",
       "DELINQ       14\n",
       "CLAGE      5310\n",
       "NINQ         16\n",
       "CLNO         62\n",
       "DEBTINC    4690\n",
       "dtype: int64"
      ]
     },
     "execution_count": 13,
     "metadata": {},
     "output_type": "execute_result"
    }
   ],
   "source": [
    "data.nunique()"
   ]
  },
  {
   "cell_type": "markdown",
   "metadata": {},
   "source": [
    "##### Mengecek Column BAD, terdapat angka 3 dan 10 sebagai data invalid, sehingga perlu dihapus"
   ]
  },
  {
   "cell_type": "code",
   "execution_count": 14,
   "metadata": {},
   "outputs": [
    {
     "data": {
      "text/plain": [
       "0     4770\n",
       "1     1186\n",
       "3        1\n",
       "10       1\n",
       "Name: BAD, dtype: int64"
      ]
     },
     "execution_count": 14,
     "metadata": {},
     "output_type": "execute_result"
    }
   ],
   "source": [
    "data['BAD'].value_counts()"
   ]
  },
  {
   "cell_type": "markdown",
   "metadata": {},
   "source": [
    "##### Mencari index ke berapa untuk data tersebut"
   ]
  },
  {
   "cell_type": "code",
   "execution_count": 15,
   "metadata": {},
   "outputs": [
    {
     "data": {
      "text/html": [
       "<div>\n",
       "<style scoped>\n",
       "    .dataframe tbody tr th:only-of-type {\n",
       "        vertical-align: middle;\n",
       "    }\n",
       "\n",
       "    .dataframe tbody tr th {\n",
       "        vertical-align: top;\n",
       "    }\n",
       "\n",
       "    .dataframe thead th {\n",
       "        text-align: right;\n",
       "    }\n",
       "</style>\n",
       "<table border=\"1\" class=\"dataframe\">\n",
       "  <thead>\n",
       "    <tr style=\"text-align: right;\">\n",
       "      <th></th>\n",
       "      <th>BAD</th>\n",
       "      <th>LOAN</th>\n",
       "      <th>MORTDUE</th>\n",
       "      <th>VALUE</th>\n",
       "      <th>REASON</th>\n",
       "      <th>JOB</th>\n",
       "      <th>YOJ</th>\n",
       "      <th>DEROG</th>\n",
       "      <th>DELINQ</th>\n",
       "      <th>CLAGE</th>\n",
       "      <th>NINQ</th>\n",
       "      <th>CLNO</th>\n",
       "      <th>DEBTINC</th>\n",
       "    </tr>\n",
       "  </thead>\n",
       "  <tbody>\n",
       "    <tr>\n",
       "      <th>469</th>\n",
       "      <td>3</td>\n",
       "      <td>7000</td>\n",
       "      <td>73873.0</td>\n",
       "      <td>111781.0</td>\n",
       "      <td>DebtCon</td>\n",
       "      <td>Office</td>\n",
       "      <td>0.0</td>\n",
       "      <td>0.0</td>\n",
       "      <td>0.0</td>\n",
       "      <td>231.799913</td>\n",
       "      <td>0.0</td>\n",
       "      <td>38.0</td>\n",
       "      <td>19.273579</td>\n",
       "    </tr>\n",
       "  </tbody>\n",
       "</table>\n",
       "</div>"
      ],
      "text/plain": [
       "     BAD  LOAN  MORTDUE     VALUE   REASON     JOB  YOJ  DEROG  DELINQ  \\\n",
       "469    3  7000  73873.0  111781.0  DebtCon  Office  0.0    0.0     0.0   \n",
       "\n",
       "          CLAGE  NINQ  CLNO    DEBTINC  \n",
       "469  231.799913   0.0  38.0  19.273579  "
      ]
     },
     "execution_count": 15,
     "metadata": {},
     "output_type": "execute_result"
    }
   ],
   "source": [
    "data[data['BAD']==3]"
   ]
  },
  {
   "cell_type": "code",
   "execution_count": 16,
   "metadata": {},
   "outputs": [
    {
     "data": {
      "text/html": [
       "<div>\n",
       "<style scoped>\n",
       "    .dataframe tbody tr th:only-of-type {\n",
       "        vertical-align: middle;\n",
       "    }\n",
       "\n",
       "    .dataframe tbody tr th {\n",
       "        vertical-align: top;\n",
       "    }\n",
       "\n",
       "    .dataframe thead th {\n",
       "        text-align: right;\n",
       "    }\n",
       "</style>\n",
       "<table border=\"1\" class=\"dataframe\">\n",
       "  <thead>\n",
       "    <tr style=\"text-align: right;\">\n",
       "      <th></th>\n",
       "      <th>BAD</th>\n",
       "      <th>LOAN</th>\n",
       "      <th>MORTDUE</th>\n",
       "      <th>VALUE</th>\n",
       "      <th>REASON</th>\n",
       "      <th>JOB</th>\n",
       "      <th>YOJ</th>\n",
       "      <th>DEROG</th>\n",
       "      <th>DELINQ</th>\n",
       "      <th>CLAGE</th>\n",
       "      <th>NINQ</th>\n",
       "      <th>CLNO</th>\n",
       "      <th>DEBTINC</th>\n",
       "    </tr>\n",
       "  </thead>\n",
       "  <tbody>\n",
       "    <tr>\n",
       "      <th>574</th>\n",
       "      <td>10</td>\n",
       "      <td>7500</td>\n",
       "      <td>63500.0</td>\n",
       "      <td>86125.0</td>\n",
       "      <td>HomeImp</td>\n",
       "      <td>Other</td>\n",
       "      <td>5.0</td>\n",
       "      <td>0.0</td>\n",
       "      <td>0.0</td>\n",
       "      <td>136.1</td>\n",
       "      <td>0.0</td>\n",
       "      <td>8.0</td>\n",
       "      <td>NaN</td>\n",
       "    </tr>\n",
       "  </tbody>\n",
       "</table>\n",
       "</div>"
      ],
      "text/plain": [
       "     BAD  LOAN  MORTDUE    VALUE   REASON    JOB  YOJ  DEROG  DELINQ  CLAGE  \\\n",
       "574   10  7500  63500.0  86125.0  HomeImp  Other  5.0    0.0     0.0  136.1   \n",
       "\n",
       "     NINQ  CLNO  DEBTINC  \n",
       "574   0.0   8.0      NaN  "
      ]
     },
     "execution_count": 16,
     "metadata": {},
     "output_type": "execute_result"
    }
   ],
   "source": [
    "data[data['BAD']==10]"
   ]
  },
  {
   "cell_type": "markdown",
   "metadata": {},
   "source": [
    "##### Menghapus data di row index 469 dan 574 . Melakukan pengecekan ulang apakah sudah terhapus"
   ]
  },
  {
   "cell_type": "code",
   "execution_count": 17,
   "metadata": {},
   "outputs": [],
   "source": [
    "data.drop(data.index[[469,574]], inplace= True)"
   ]
  },
  {
   "cell_type": "code",
   "execution_count": 18,
   "metadata": {},
   "outputs": [
    {
     "data": {
      "text/plain": [
       "0    4770\n",
       "1    1186\n",
       "Name: BAD, dtype: int64"
      ]
     },
     "execution_count": 18,
     "metadata": {},
     "output_type": "execute_result"
    }
   ],
   "source": [
    "data['BAD'].value_counts()"
   ]
  },
  {
   "cell_type": "markdown",
   "metadata": {},
   "source": [
    "##### Melakukan Pengecekan untuk column REASON dan ditemukan 1 dataset yang typo "
   ]
  },
  {
   "cell_type": "code",
   "execution_count": 19,
   "metadata": {},
   "outputs": [
    {
     "data": {
      "text/plain": [
       "DebtCon     3925\n",
       "HomeImp     1778\n",
       "DebtCons       1\n",
       "Name: REASON, dtype: int64"
      ]
     },
     "execution_count": 19,
     "metadata": {},
     "output_type": "execute_result"
    }
   ],
   "source": [
    "data['REASON'].value_counts()"
   ]
  },
  {
   "cell_type": "code",
   "execution_count": 20,
   "metadata": {},
   "outputs": [],
   "source": [
    "data['REASON'] =data['REASON'].replace('DebtCons', 'DebtCon')"
   ]
  },
  {
   "cell_type": "code",
   "execution_count": 21,
   "metadata": {},
   "outputs": [
    {
     "data": {
      "text/plain": [
       "DebtCon    3926\n",
       "HomeImp    1778\n",
       "Name: REASON, dtype: int64"
      ]
     },
     "execution_count": 21,
     "metadata": {},
     "output_type": "execute_result"
    }
   ],
   "source": [
    "data['REASON'].value_counts()"
   ]
  },
  {
   "cell_type": "markdown",
   "metadata": {},
   "source": [
    "##### Melakukan Pengecekan untuk column JOB dan ditemukan 1 dataset yang typo "
   ]
  },
  {
   "cell_type": "code",
   "execution_count": 22,
   "metadata": {},
   "outputs": [
    {
     "data": {
      "text/plain": [
       "Other      2384\n",
       "ProfExe    1276\n",
       "Office      947\n",
       "Mgr         767\n",
       "Self        193\n",
       "Sales       109\n",
       "Othe          1\n",
       "Name: JOB, dtype: int64"
      ]
     },
     "execution_count": 22,
     "metadata": {},
     "output_type": "execute_result"
    }
   ],
   "source": [
    "data['JOB'].value_counts()"
   ]
  },
  {
   "cell_type": "code",
   "execution_count": 23,
   "metadata": {},
   "outputs": [],
   "source": [
    "data['JOB'] =data['JOB'].replace('Othe', 'Other')"
   ]
  },
  {
   "cell_type": "code",
   "execution_count": 24,
   "metadata": {},
   "outputs": [
    {
     "data": {
      "text/plain": [
       "Other      2385\n",
       "ProfExe    1276\n",
       "Office      947\n",
       "Mgr         767\n",
       "Self        193\n",
       "Sales       109\n",
       "Name: JOB, dtype: int64"
      ]
     },
     "execution_count": 24,
     "metadata": {},
     "output_type": "execute_result"
    }
   ],
   "source": [
    "data['JOB'].value_counts()"
   ]
  },
  {
   "cell_type": "markdown",
   "metadata": {},
   "source": [
    "##### Periksa Column VALUE dan menemukn 1 angka negatif dan 2 angka yang sangat besar(outlier) "
   ]
  },
  {
   "cell_type": "code",
   "execution_count": 25,
   "metadata": {},
   "outputs": [
    {
     "data": {
      "text/plain": [
       "-25000.0    1\n",
       " 8000.0     1\n",
       " 8800.0     1\n",
       " 9100.0     1\n",
       " 9500.0     1\n",
       "Name: VALUE, dtype: int64"
      ]
     },
     "execution_count": 25,
     "metadata": {},
     "output_type": "execute_result"
    }
   ],
   "source": [
    "data['VALUE'].value_counts().sort_index().head()"
   ]
  },
  {
   "cell_type": "code",
   "execution_count": 26,
   "metadata": {},
   "outputs": [
    {
     "data": {
      "text/plain": [
       "854112.0       1\n",
       "854114.0       1\n",
       "855909.0       1\n",
       "14440150.0     1\n",
       "900140000.0    1\n",
       "Name: VALUE, dtype: int64"
      ]
     },
     "execution_count": 26,
     "metadata": {},
     "output_type": "execute_result"
    }
   ],
   "source": [
    "data['VALUE'].value_counts().sort_index().tail(5)"
   ]
  },
  {
   "cell_type": "code",
   "execution_count": 27,
   "metadata": {},
   "outputs": [
    {
     "data": {
      "text/plain": [
       "854112.0       1\n",
       "854114.0       1\n",
       "855909.0       1\n",
       "14440150.0     1\n",
       "900140000.0    1\n",
       "Name: VALUE, dtype: int64"
      ]
     },
     "execution_count": 27,
     "metadata": {},
     "output_type": "execute_result"
    }
   ],
   "source": [
    "data['VALUE'].value_counts().sort_index().tail(5)"
   ]
  },
  {
   "cell_type": "code",
   "execution_count": 28,
   "metadata": {},
   "outputs": [
    {
     "data": {
      "text/html": [
       "<div>\n",
       "<style scoped>\n",
       "    .dataframe tbody tr th:only-of-type {\n",
       "        vertical-align: middle;\n",
       "    }\n",
       "\n",
       "    .dataframe tbody tr th {\n",
       "        vertical-align: top;\n",
       "    }\n",
       "\n",
       "    .dataframe thead th {\n",
       "        text-align: right;\n",
       "    }\n",
       "</style>\n",
       "<table border=\"1\" class=\"dataframe\">\n",
       "  <thead>\n",
       "    <tr style=\"text-align: right;\">\n",
       "      <th></th>\n",
       "      <th>BAD</th>\n",
       "      <th>LOAN</th>\n",
       "      <th>MORTDUE</th>\n",
       "      <th>VALUE</th>\n",
       "      <th>REASON</th>\n",
       "      <th>JOB</th>\n",
       "      <th>YOJ</th>\n",
       "      <th>DEROG</th>\n",
       "      <th>DELINQ</th>\n",
       "      <th>CLAGE</th>\n",
       "      <th>NINQ</th>\n",
       "      <th>CLNO</th>\n",
       "      <th>DEBTINC</th>\n",
       "    </tr>\n",
       "  </thead>\n",
       "  <tbody>\n",
       "    <tr>\n",
       "      <th>4019</th>\n",
       "      <td>0</td>\n",
       "      <td>21000</td>\n",
       "      <td>87000.0</td>\n",
       "      <td>900140000.0</td>\n",
       "      <td>DebtCon</td>\n",
       "      <td>ProfExe</td>\n",
       "      <td>22.0</td>\n",
       "      <td>1.0</td>\n",
       "      <td>0.0</td>\n",
       "      <td>163.366667</td>\n",
       "      <td>1.0</td>\n",
       "      <td>25.0</td>\n",
       "      <td>NaN</td>\n",
       "    </tr>\n",
       "  </tbody>\n",
       "</table>\n",
       "</div>"
      ],
      "text/plain": [
       "      BAD   LOAN  MORTDUE        VALUE   REASON      JOB   YOJ  DEROG  DELINQ  \\\n",
       "4019    0  21000  87000.0  900140000.0  DebtCon  ProfExe  22.0    1.0     0.0   \n",
       "\n",
       "           CLAGE  NINQ  CLNO  DEBTINC  \n",
       "4019  163.366667   1.0  25.0      NaN  "
      ]
     },
     "execution_count": 28,
     "metadata": {},
     "output_type": "execute_result"
    }
   ],
   "source": [
    "data[data['VALUE']==900140000]"
   ]
  },
  {
   "cell_type": "markdown",
   "metadata": {},
   "source": [
    "##### Saat ini hanya menghandle invalid data, yaitu dihapus. Karena tidak ada suatu value yang bernilai negatif "
   ]
  },
  {
   "cell_type": "code",
   "execution_count": 29,
   "metadata": {},
   "outputs": [
    {
     "data": {
      "text/html": [
       "<div>\n",
       "<style scoped>\n",
       "    .dataframe tbody tr th:only-of-type {\n",
       "        vertical-align: middle;\n",
       "    }\n",
       "\n",
       "    .dataframe tbody tr th {\n",
       "        vertical-align: top;\n",
       "    }\n",
       "\n",
       "    .dataframe thead th {\n",
       "        text-align: right;\n",
       "    }\n",
       "</style>\n",
       "<table border=\"1\" class=\"dataframe\">\n",
       "  <thead>\n",
       "    <tr style=\"text-align: right;\">\n",
       "      <th></th>\n",
       "      <th>BAD</th>\n",
       "      <th>LOAN</th>\n",
       "      <th>MORTDUE</th>\n",
       "      <th>VALUE</th>\n",
       "      <th>REASON</th>\n",
       "      <th>JOB</th>\n",
       "      <th>YOJ</th>\n",
       "      <th>DEROG</th>\n",
       "      <th>DELINQ</th>\n",
       "      <th>CLAGE</th>\n",
       "      <th>NINQ</th>\n",
       "      <th>CLNO</th>\n",
       "      <th>DEBTINC</th>\n",
       "    </tr>\n",
       "  </thead>\n",
       "  <tbody>\n",
       "    <tr>\n",
       "      <th>497</th>\n",
       "      <td>1</td>\n",
       "      <td>7000</td>\n",
       "      <td>18000.0</td>\n",
       "      <td>-25000.0</td>\n",
       "      <td>DebtCon</td>\n",
       "      <td>Other</td>\n",
       "      <td>6.5</td>\n",
       "      <td>1.0</td>\n",
       "      <td>0.0</td>\n",
       "      <td>205.966667</td>\n",
       "      <td>1.0</td>\n",
       "      <td>19.0</td>\n",
       "      <td>NaN</td>\n",
       "    </tr>\n",
       "  </tbody>\n",
       "</table>\n",
       "</div>"
      ],
      "text/plain": [
       "     BAD  LOAN  MORTDUE    VALUE   REASON    JOB  YOJ  DEROG  DELINQ  \\\n",
       "497    1  7000  18000.0 -25000.0  DebtCon  Other  6.5    1.0     0.0   \n",
       "\n",
       "          CLAGE  NINQ  CLNO  DEBTINC  \n",
       "497  205.966667   1.0  19.0      NaN  "
      ]
     },
     "execution_count": 29,
     "metadata": {},
     "output_type": "execute_result"
    }
   ],
   "source": [
    "data[data['VALUE']==-25000]"
   ]
  },
  {
   "cell_type": "code",
   "execution_count": 30,
   "metadata": {},
   "outputs": [],
   "source": [
    "data.drop(data.index[[497]], inplace= True)"
   ]
  },
  {
   "cell_type": "code",
   "execution_count": 31,
   "metadata": {},
   "outputs": [
    {
     "data": {
      "text/html": [
       "<div>\n",
       "<style scoped>\n",
       "    .dataframe tbody tr th:only-of-type {\n",
       "        vertical-align: middle;\n",
       "    }\n",
       "\n",
       "    .dataframe tbody tr th {\n",
       "        vertical-align: top;\n",
       "    }\n",
       "\n",
       "    .dataframe thead th {\n",
       "        text-align: right;\n",
       "    }\n",
       "</style>\n",
       "<table border=\"1\" class=\"dataframe\">\n",
       "  <thead>\n",
       "    <tr style=\"text-align: right;\">\n",
       "      <th></th>\n",
       "      <th>BAD</th>\n",
       "      <th>LOAN</th>\n",
       "      <th>MORTDUE</th>\n",
       "      <th>VALUE</th>\n",
       "      <th>REASON</th>\n",
       "      <th>JOB</th>\n",
       "      <th>YOJ</th>\n",
       "      <th>DEROG</th>\n",
       "      <th>DELINQ</th>\n",
       "      <th>CLAGE</th>\n",
       "      <th>NINQ</th>\n",
       "      <th>CLNO</th>\n",
       "      <th>DEBTINC</th>\n",
       "    </tr>\n",
       "  </thead>\n",
       "  <tbody>\n",
       "    <tr>\n",
       "      <th>4019</th>\n",
       "      <td>0</td>\n",
       "      <td>21000</td>\n",
       "      <td>87000.0</td>\n",
       "      <td>900140000.0</td>\n",
       "      <td>DebtCon</td>\n",
       "      <td>ProfExe</td>\n",
       "      <td>22.0</td>\n",
       "      <td>1.0</td>\n",
       "      <td>0.0</td>\n",
       "      <td>163.366667</td>\n",
       "      <td>1.0</td>\n",
       "      <td>25.0</td>\n",
       "      <td>NaN</td>\n",
       "    </tr>\n",
       "  </tbody>\n",
       "</table>\n",
       "</div>"
      ],
      "text/plain": [
       "      BAD   LOAN  MORTDUE        VALUE   REASON      JOB   YOJ  DEROG  DELINQ  \\\n",
       "4019    0  21000  87000.0  900140000.0  DebtCon  ProfExe  22.0    1.0     0.0   \n",
       "\n",
       "           CLAGE  NINQ  CLNO  DEBTINC  \n",
       "4019  163.366667   1.0  25.0      NaN  "
      ]
     },
     "execution_count": 31,
     "metadata": {},
     "output_type": "execute_result"
    }
   ],
   "source": [
    "data[data['VALUE']==900140000]"
   ]
  },
  {
   "cell_type": "markdown",
   "metadata": {},
   "source": [
    "##### Periksa Column DEBTINC dan menemukn 1 angka negatif dan 2 angka yang sangat besar(outlier). Namun karena di kondisi DEBTINC memungkinkan negatif, artinya hanya sebagai outlier(karena kejadian hingga negatif itu kejadian sangat langkah)"
   ]
  },
  {
   "cell_type": "code",
   "execution_count": 32,
   "metadata": {},
   "outputs": [
    {
     "data": {
      "text/plain": [
       "-21.719596    1\n",
       " 0.000000     1\n",
       " 0.524499     1\n",
       " 0.720295     1\n",
       " 0.838118     1\n",
       "Name: DEBTINC, dtype: int64"
      ]
     },
     "execution_count": 32,
     "metadata": {},
     "output_type": "execute_result"
    }
   ],
   "source": [
    "data['DEBTINC'].value_counts().sort_index().head()"
   ]
  },
  {
   "cell_type": "code",
   "execution_count": 33,
   "metadata": {},
   "outputs": [
    {
     "data": {
      "text/plain": [
       "143.949605     1\n",
       "144.189001     1\n",
       "203.312149     1\n",
       "2224.478881    1\n",
       "4537.512708    1\n",
       "Name: DEBTINC, dtype: int64"
      ]
     },
     "execution_count": 33,
     "metadata": {},
     "output_type": "execute_result"
    }
   ],
   "source": [
    "data['DEBTINC'].value_counts().sort_index().tail()"
   ]
  },
  {
   "cell_type": "code",
   "execution_count": 34,
   "metadata": {},
   "outputs": [
    {
     "data": {
      "text/html": [
       "<div>\n",
       "<style scoped>\n",
       "    .dataframe tbody tr th:only-of-type {\n",
       "        vertical-align: middle;\n",
       "    }\n",
       "\n",
       "    .dataframe tbody tr th {\n",
       "        vertical-align: top;\n",
       "    }\n",
       "\n",
       "    .dataframe thead th {\n",
       "        text-align: right;\n",
       "    }\n",
       "</style>\n",
       "<table border=\"1\" class=\"dataframe\">\n",
       "  <thead>\n",
       "    <tr style=\"text-align: right;\">\n",
       "      <th></th>\n",
       "      <th>BAD</th>\n",
       "      <th>LOAN</th>\n",
       "      <th>MORTDUE</th>\n",
       "      <th>VALUE</th>\n",
       "      <th>REASON</th>\n",
       "      <th>JOB</th>\n",
       "      <th>YOJ</th>\n",
       "      <th>DEROG</th>\n",
       "      <th>DELINQ</th>\n",
       "      <th>CLAGE</th>\n",
       "      <th>NINQ</th>\n",
       "      <th>CLNO</th>\n",
       "      <th>DEBTINC</th>\n",
       "    </tr>\n",
       "  </thead>\n",
       "  <tbody>\n",
       "    <tr>\n",
       "      <th>371</th>\n",
       "      <td>0</td>\n",
       "      <td>6300</td>\n",
       "      <td>58052.0</td>\n",
       "      <td>70091.0</td>\n",
       "      <td>DebtCon</td>\n",
       "      <td>ProfExe</td>\n",
       "      <td>9.0</td>\n",
       "      <td>0.0</td>\n",
       "      <td>4.0</td>\n",
       "      <td>153.780439</td>\n",
       "      <td>1.0</td>\n",
       "      <td>30.0</td>\n",
       "      <td>-21.719596</td>\n",
       "    </tr>\n",
       "  </tbody>\n",
       "</table>\n",
       "</div>"
      ],
      "text/plain": [
       "     BAD  LOAN  MORTDUE    VALUE   REASON      JOB  YOJ  DEROG  DELINQ  \\\n",
       "371    0  6300  58052.0  70091.0  DebtCon  ProfExe  9.0    0.0     4.0   \n",
       "\n",
       "          CLAGE  NINQ  CLNO    DEBTINC  \n",
       "371  153.780439   1.0  30.0 -21.719596  "
      ]
     },
     "execution_count": 34,
     "metadata": {},
     "output_type": "execute_result"
    }
   ],
   "source": [
    "data[data['DEBTINC']< 0]"
   ]
  },
  {
   "cell_type": "code",
   "execution_count": 35,
   "metadata": {},
   "outputs": [
    {
     "data": {
      "text/html": [
       "<div>\n",
       "<style scoped>\n",
       "    .dataframe tbody tr th:only-of-type {\n",
       "        vertical-align: middle;\n",
       "    }\n",
       "\n",
       "    .dataframe tbody tr th {\n",
       "        vertical-align: top;\n",
       "    }\n",
       "\n",
       "    .dataframe thead th {\n",
       "        text-align: right;\n",
       "    }\n",
       "</style>\n",
       "<table border=\"1\" class=\"dataframe\">\n",
       "  <thead>\n",
       "    <tr style=\"text-align: right;\">\n",
       "      <th></th>\n",
       "      <th>BAD</th>\n",
       "      <th>LOAN</th>\n",
       "      <th>MORTDUE</th>\n",
       "      <th>VALUE</th>\n",
       "      <th>REASON</th>\n",
       "      <th>JOB</th>\n",
       "      <th>YOJ</th>\n",
       "      <th>DEROG</th>\n",
       "      <th>DELINQ</th>\n",
       "      <th>CLAGE</th>\n",
       "      <th>NINQ</th>\n",
       "      <th>CLNO</th>\n",
       "      <th>DEBTINC</th>\n",
       "    </tr>\n",
       "  </thead>\n",
       "  <tbody>\n",
       "    <tr>\n",
       "      <th>74</th>\n",
       "      <td>1</td>\n",
       "      <td>3900</td>\n",
       "      <td>29896.0</td>\n",
       "      <td>45960.0</td>\n",
       "      <td>HomeImp</td>\n",
       "      <td>Other</td>\n",
       "      <td>11.0</td>\n",
       "      <td>0.0</td>\n",
       "      <td>0.0</td>\n",
       "      <td>146.123242</td>\n",
       "      <td>0.0</td>\n",
       "      <td>14.0</td>\n",
       "      <td>2224.478881</td>\n",
       "    </tr>\n",
       "    <tr>\n",
       "      <th>187</th>\n",
       "      <td>0</td>\n",
       "      <td>5000</td>\n",
       "      <td>80153.0</td>\n",
       "      <td>97275.0</td>\n",
       "      <td>DebtCon</td>\n",
       "      <td>Other</td>\n",
       "      <td>1.0</td>\n",
       "      <td>0.0</td>\n",
       "      <td>0.0</td>\n",
       "      <td>120.675063</td>\n",
       "      <td>2.0</td>\n",
       "      <td>10.0</td>\n",
       "      <td>4537.512708</td>\n",
       "    </tr>\n",
       "  </tbody>\n",
       "</table>\n",
       "</div>"
      ],
      "text/plain": [
       "     BAD  LOAN  MORTDUE    VALUE   REASON    JOB   YOJ  DEROG  DELINQ  \\\n",
       "74     1  3900  29896.0  45960.0  HomeImp  Other  11.0    0.0     0.0   \n",
       "187    0  5000  80153.0  97275.0  DebtCon  Other   1.0    0.0     0.0   \n",
       "\n",
       "          CLAGE  NINQ  CLNO      DEBTINC  \n",
       "74   146.123242   0.0  14.0  2224.478881  \n",
       "187  120.675063   2.0  10.0  4537.512708  "
      ]
     },
     "execution_count": 35,
     "metadata": {},
     "output_type": "execute_result"
    }
   ],
   "source": [
    "data[data['DEBTINC']>205]"
   ]
  },
  {
   "cell_type": "markdown",
   "metadata": {},
   "source": [
    "##### Periksa Column DEROG "
   ]
  },
  {
   "cell_type": "code",
   "execution_count": 36,
   "metadata": {},
   "outputs": [
    {
     "data": {
      "text/plain": [
       "0.0     4523\n",
       "1.0      435\n",
       "2.0      159\n",
       "3.0       58\n",
       "4.0       23\n",
       "5.0       15\n",
       "6.0       15\n",
       "7.0        8\n",
       "8.0        6\n",
       "9.0        3\n",
       "10.0       2\n",
       "Name: DEROG, dtype: int64"
      ]
     },
     "execution_count": 36,
     "metadata": {},
     "output_type": "execute_result"
    }
   ],
   "source": [
    "data['DEROG'].value_counts().sort_index()"
   ]
  },
  {
   "cell_type": "markdown",
   "metadata": {},
   "source": [
    "##### Periksa column NINQ "
   ]
  },
  {
   "cell_type": "code",
   "execution_count": 37,
   "metadata": {},
   "outputs": [
    {
     "data": {
      "text/plain": [
       "0.0     2527\n",
       "1.0     1338\n",
       "2.0      781\n",
       "3.0      391\n",
       "4.0      156\n",
       "5.0       75\n",
       "6.0       56\n",
       "7.0       44\n",
       "8.0       22\n",
       "9.0       11\n",
       "10.0      28\n",
       "11.0      10\n",
       "12.0       2\n",
       "13.0       2\n",
       "14.0       1\n",
       "17.0       1\n",
       "Name: NINQ, dtype: int64"
      ]
     },
     "execution_count": 37,
     "metadata": {},
     "output_type": "execute_result"
    }
   ],
   "source": [
    "data['NINQ'].value_counts().sort_index()"
   ]
  },
  {
   "cell_type": "markdown",
   "metadata": {},
   "source": [
    "##### Periksa Column CLAGE dan menemukan 2 outliers "
   ]
  },
  {
   "cell_type": "code",
   "execution_count": 38,
   "metadata": {},
   "outputs": [
    {
     "data": {
      "text/plain": [
       "0.000000    2\n",
       "0.486711    1\n",
       "0.507115    1\n",
       "2.033333    1\n",
       "2.820786    1\n",
       "Name: CLAGE, dtype: int64"
      ]
     },
     "execution_count": 38,
     "metadata": {},
     "output_type": "execute_result"
    }
   ],
   "source": [
    "data['CLAGE'].value_counts().sort_index().head()"
   ]
  },
  {
   "cell_type": "code",
   "execution_count": 39,
   "metadata": {},
   "outputs": [
    {
     "data": {
      "text/plain": [
       "639.058172     1\n",
       "648.328493     1\n",
       "649.747104     1\n",
       "1154.633333    1\n",
       "1168.233561    1\n",
       "Name: CLAGE, dtype: int64"
      ]
     },
     "execution_count": 39,
     "metadata": {},
     "output_type": "execute_result"
    }
   ],
   "source": [
    "data['CLAGE'].value_counts().sort_index().tail()"
   ]
  },
  {
   "cell_type": "code",
   "execution_count": 40,
   "metadata": {},
   "outputs": [
    {
     "data": {
      "text/html": [
       "<div>\n",
       "<style scoped>\n",
       "    .dataframe tbody tr th:only-of-type {\n",
       "        vertical-align: middle;\n",
       "    }\n",
       "\n",
       "    .dataframe tbody tr th {\n",
       "        vertical-align: top;\n",
       "    }\n",
       "\n",
       "    .dataframe thead th {\n",
       "        text-align: right;\n",
       "    }\n",
       "</style>\n",
       "<table border=\"1\" class=\"dataframe\">\n",
       "  <thead>\n",
       "    <tr style=\"text-align: right;\">\n",
       "      <th></th>\n",
       "      <th>BAD</th>\n",
       "      <th>LOAN</th>\n",
       "      <th>MORTDUE</th>\n",
       "      <th>VALUE</th>\n",
       "      <th>REASON</th>\n",
       "      <th>JOB</th>\n",
       "      <th>YOJ</th>\n",
       "      <th>DEROG</th>\n",
       "      <th>DELINQ</th>\n",
       "      <th>CLAGE</th>\n",
       "      <th>NINQ</th>\n",
       "      <th>CLNO</th>\n",
       "      <th>DEBTINC</th>\n",
       "    </tr>\n",
       "  </thead>\n",
       "  <tbody>\n",
       "    <tr>\n",
       "      <th>3096</th>\n",
       "      <td>1</td>\n",
       "      <td>16800</td>\n",
       "      <td>87300.0</td>\n",
       "      <td>155500.0</td>\n",
       "      <td>DebtCon</td>\n",
       "      <td>Other</td>\n",
       "      <td>3.0</td>\n",
       "      <td>0.0</td>\n",
       "      <td>0.0</td>\n",
       "      <td>1154.633333</td>\n",
       "      <td>0.0</td>\n",
       "      <td>0.0</td>\n",
       "      <td>NaN</td>\n",
       "    </tr>\n",
       "    <tr>\n",
       "      <th>3678</th>\n",
       "      <td>1</td>\n",
       "      <td>19300</td>\n",
       "      <td>96454.0</td>\n",
       "      <td>157809.0</td>\n",
       "      <td>DebtCon</td>\n",
       "      <td>Other</td>\n",
       "      <td>3.0</td>\n",
       "      <td>0.0</td>\n",
       "      <td>0.0</td>\n",
       "      <td>1168.233561</td>\n",
       "      <td>0.0</td>\n",
       "      <td>0.0</td>\n",
       "      <td>40.206138</td>\n",
       "    </tr>\n",
       "  </tbody>\n",
       "</table>\n",
       "</div>"
      ],
      "text/plain": [
       "      BAD   LOAN  MORTDUE     VALUE   REASON    JOB  YOJ  DEROG  DELINQ  \\\n",
       "3096    1  16800  87300.0  155500.0  DebtCon  Other  3.0    0.0     0.0   \n",
       "3678    1  19300  96454.0  157809.0  DebtCon  Other  3.0    0.0     0.0   \n",
       "\n",
       "            CLAGE  NINQ  CLNO    DEBTINC  \n",
       "3096  1154.633333   0.0   0.0        NaN  \n",
       "3678  1168.233561   0.0   0.0  40.206138  "
      ]
     },
     "execution_count": 40,
     "metadata": {},
     "output_type": "execute_result"
    }
   ],
   "source": [
    "data[data['CLAGE']>650]"
   ]
  },
  {
   "cell_type": "markdown",
   "metadata": {},
   "source": [
    "##### Periksa column MORTDUE "
   ]
  },
  {
   "cell_type": "code",
   "execution_count": 41,
   "metadata": {},
   "outputs": [
    {
     "data": {
      "text/plain": [
       "2063.0    1\n",
       "2619.0    1\n",
       "2800.0    1\n",
       "3372.0    1\n",
       "4000.0    1\n",
       "Name: MORTDUE, dtype: int64"
      ]
     },
     "execution_count": 41,
     "metadata": {},
     "output_type": "execute_result"
    }
   ],
   "source": [
    "data['MORTDUE'].value_counts().sort_index().head()"
   ]
  },
  {
   "cell_type": "code",
   "execution_count": 42,
   "metadata": {},
   "outputs": [
    {
     "data": {
      "text/plain": [
       "241570.0    1\n",
       "241931.0    1\n",
       "242111.0    1\n",
       "247500.0    1\n",
       "256431.0    1\n",
       "290000.0    1\n",
       "331000.0    1\n",
       "362000.0    1\n",
       "362578.0    1\n",
       "362909.0    1\n",
       "363737.0    1\n",
       "365528.0    1\n",
       "367089.0    1\n",
       "367917.0    1\n",
       "369874.0    1\n",
       "371003.0    1\n",
       "391000.0    1\n",
       "397299.0    1\n",
       "399412.0    1\n",
       "399550.0    1\n",
       "Name: MORTDUE, dtype: int64"
      ]
     },
     "execution_count": 42,
     "metadata": {},
     "output_type": "execute_result"
    }
   ],
   "source": [
    "data['MORTDUE'].value_counts().sort_index().tail(20)"
   ]
  },
  {
   "cell_type": "markdown",
   "metadata": {},
   "source": [
    "##### Periksa Column LOAN dan ditemukan 1 angka yang sangat besar(outlier)"
   ]
  },
  {
   "cell_type": "code",
   "execution_count": 43,
   "metadata": {},
   "outputs": [
    {
     "data": {
      "text/plain": [
       "1100    1\n",
       "1300    1\n",
       "1500    2\n",
       "1700    2\n",
       "1800    2\n",
       "Name: LOAN, dtype: int64"
      ]
     },
     "execution_count": 43,
     "metadata": {},
     "output_type": "execute_result"
    }
   ],
   "source": [
    "data['LOAN'].value_counts().sort_index().head()"
   ]
  },
  {
   "cell_type": "code",
   "execution_count": 44,
   "metadata": {},
   "outputs": [
    {
     "data": {
      "text/plain": [
       "89000      1\n",
       "89200      1\n",
       "89800      1\n",
       "89900      1\n",
       "6600000    1\n",
       "Name: LOAN, dtype: int64"
      ]
     },
     "execution_count": 44,
     "metadata": {},
     "output_type": "execute_result"
    }
   ],
   "source": [
    "data['LOAN'].value_counts().sort_index().tail()"
   ]
  },
  {
   "cell_type": "code",
   "execution_count": 45,
   "metadata": {},
   "outputs": [
    {
     "data": {
      "text/html": [
       "<div>\n",
       "<style scoped>\n",
       "    .dataframe tbody tr th:only-of-type {\n",
       "        vertical-align: middle;\n",
       "    }\n",
       "\n",
       "    .dataframe tbody tr th {\n",
       "        vertical-align: top;\n",
       "    }\n",
       "\n",
       "    .dataframe thead th {\n",
       "        text-align: right;\n",
       "    }\n",
       "</style>\n",
       "<table border=\"1\" class=\"dataframe\">\n",
       "  <thead>\n",
       "    <tr style=\"text-align: right;\">\n",
       "      <th></th>\n",
       "      <th>BAD</th>\n",
       "      <th>LOAN</th>\n",
       "      <th>MORTDUE</th>\n",
       "      <th>VALUE</th>\n",
       "      <th>REASON</th>\n",
       "      <th>JOB</th>\n",
       "      <th>YOJ</th>\n",
       "      <th>DEROG</th>\n",
       "      <th>DELINQ</th>\n",
       "      <th>CLAGE</th>\n",
       "      <th>NINQ</th>\n",
       "      <th>CLNO</th>\n",
       "      <th>DEBTINC</th>\n",
       "    </tr>\n",
       "  </thead>\n",
       "  <tbody>\n",
       "    <tr>\n",
       "      <th>419</th>\n",
       "      <td>0</td>\n",
       "      <td>6600000</td>\n",
       "      <td>40926.0</td>\n",
       "      <td>50486.0</td>\n",
       "      <td>HomeImp</td>\n",
       "      <td>Office</td>\n",
       "      <td>10.0</td>\n",
       "      <td>NaN</td>\n",
       "      <td>NaN</td>\n",
       "      <td>179.800868</td>\n",
       "      <td>NaN</td>\n",
       "      <td>19.0</td>\n",
       "      <td>27.532376</td>\n",
       "    </tr>\n",
       "  </tbody>\n",
       "</table>\n",
       "</div>"
      ],
      "text/plain": [
       "     BAD     LOAN  MORTDUE    VALUE   REASON     JOB   YOJ  DEROG  DELINQ  \\\n",
       "419    0  6600000  40926.0  50486.0  HomeImp  Office  10.0    NaN     NaN   \n",
       "\n",
       "          CLAGE  NINQ  CLNO    DEBTINC  \n",
       "419  179.800868   NaN  19.0  27.532376  "
      ]
     },
     "execution_count": 45,
     "metadata": {},
     "output_type": "execute_result"
    }
   ],
   "source": [
    "data[data['LOAN']==6600000]"
   ]
  },
  {
   "cell_type": "markdown",
   "metadata": {},
   "source": [
    "### VISUAL EDA Categorical"
   ]
  },
  {
   "cell_type": "code",
   "execution_count": 46,
   "metadata": {},
   "outputs": [
    {
     "data": {
      "text/plain": [
       "<matplotlib.axes._subplots.AxesSubplot at 0x113658c50>"
      ]
     },
     "execution_count": 46,
     "metadata": {},
     "output_type": "execute_result"
    },
    {
     "data": {
      "image/png": "[encoded data removed]",
      "text/plain": [
       "<matplotlib.figure.Figure at 0x113646828>"
      ]
     },
     "metadata": {},
     "output_type": "display_data"
    }
   ],
   "source": [
    "sns.countplot(x='BAD', data = data)"
   ]
  },
  {
   "cell_type": "code",
   "execution_count": 47,
   "metadata": {},
   "outputs": [
    {
     "data": {
      "text/plain": [
       "<seaborn.axisgrid.FacetGrid at 0x1135a9780>"
      ]
     },
     "execution_count": 47,
     "metadata": {},
     "output_type": "execute_result"
    },
    {
     "data": {
      "image/png": "[encoded data removed]",
      "text/plain": [
       "<matplotlib.figure.Figure at 0x113646c88>"
      ]
     },
     "metadata": {},
     "output_type": "display_data"
    }
   ],
   "source": [
    "sns.factorplot(x='BAD', col = 'REASON',kind='count', data=data)"
   ]
  },
  {
   "cell_type": "code",
   "execution_count": 48,
   "metadata": {},
   "outputs": [
    {
     "data": {
      "text/plain": [
       "<seaborn.axisgrid.FacetGrid at 0x1136fb4a8>"
      ]
     },
     "execution_count": 48,
     "metadata": {},
     "output_type": "execute_result"
    },
    {
     "data": {
      "image/png": "[encoded data removed]",
      "text/plain": [
       "<matplotlib.figure.Figure at 0x11368fd68>"
      ]
     },
     "metadata": {},
     "output_type": "display_data"
    }
   ],
   "source": [
    "sns.factorplot(x='BAD', col = 'JOB',kind='count', data=data)"
   ]
  },
  {
   "cell_type": "markdown",
   "metadata": {},
   "source": [
    "### VISUAL EDA Numerical\n",
    "\n",
    "##### As we can see from this 3 plots, we found an extreme outlier"
   ]
  },
  {
   "cell_type": "code",
   "execution_count": 49,
   "metadata": {},
   "outputs": [
    {
     "data": {
      "image/png": "[encoded data removed]",
      "text/plain": [
       "<matplotlib.figure.Figure at 0x115d0b4e0>"
      ]
     },
     "metadata": {},
     "output_type": "display_data"
    }
   ],
   "source": [
    "sns.lmplot(x='YOJ', y='LOAN', hue='BAD', data=data, fit_reg=False, scatter_kws={'alpha':0.5});\n"
   ]
  },
  {
   "cell_type": "code",
   "execution_count": 50,
   "metadata": {},
   "outputs": [
    {
     "data": {
      "image/png": "[encoded data removed]",
      "text/plain": [
       "<matplotlib.figure.Figure at 0x115d9d1d0>"
      ]
     },
     "metadata": {},
     "output_type": "display_data"
    }
   ],
   "source": [
    "sns.lmplot(x='YOJ', y='VALUE', hue='BAD', data=data, fit_reg=False, scatter_kws={'alpha':0.5});"
   ]
  },
  {
   "cell_type": "code",
   "execution_count": 51,
   "metadata": {},
   "outputs": [
    {
     "data": {
      "text/plain": [
       "<matplotlib.axes._subplots.AxesSubplot at 0x1a21b08b00>"
      ]
     },
     "execution_count": 51,
     "metadata": {},
     "output_type": "execute_result"
    },
    {
     "data": {
      "image/png": "[encoded data removed]",
      "text/plain": [
       "<matplotlib.figure.Figure at 0x115d21a90>"
      ]
     },
     "metadata": {},
     "output_type": "display_data"
    }
   ],
   "source": [
    "data.boxplot(column='VALUE', by ='JOB')"
   ]
  },
  {
   "cell_type": "markdown",
   "metadata": {},
   "source": [
    "#### Membuang outlier\n",
    "\n",
    "###### Outlier yang dimaksud adalah suatu data yang terlalu extreme sehingga saat divisualisasi seperti yang terjadi di atas. BUKAN outlier yang seperti perhitungan untuk boxplot"
   ]
  },
  {
   "cell_type": "code",
   "execution_count": 52,
   "metadata": {},
   "outputs": [],
   "source": [
    "data.drop(data.index[[4019, 371, 74,187, 3096, 3678,419]], inplace= True)"
   ]
  },
  {
   "cell_type": "code",
   "execution_count": 53,
   "metadata": {},
   "outputs": [],
   "source": [
    "data = data[data.VALUE >0]"
   ]
  },
  {
   "cell_type": "code",
   "execution_count": 58,
   "metadata": {},
   "outputs": [],
   "source": [
    "data = data[data.VALUE < 900000]"
   ]
  },
  {
   "cell_type": "markdown",
   "metadata": {},
   "source": [
    "##### Mencoba melakukan Visualisai EDA Numerical setelah outliers dihapus"
   ]
  },
  {
   "cell_type": "code",
   "execution_count": 59,
   "metadata": {},
   "outputs": [
    {
     "data": {
      "image/png": "[encoded data removed]",
      "text/plain": [
       "<matplotlib.figure.Figure at 0x1a21d58780>"
      ]
     },
     "metadata": {},
     "output_type": "display_data"
    }
   ],
   "source": [
    "sns.lmplot(x='YOJ', y='LOAN', hue='BAD', data=data, fit_reg=False, scatter_kws={'alpha':0.5});\n"
   ]
  },
  {
   "cell_type": "code",
   "execution_count": 60,
   "metadata": {
    "scrolled": true
   },
   "outputs": [
    {
     "data": {
      "image/png": "[encoded data removed]",
      "text/plain": [
       "<matplotlib.figure.Figure at 0x1a221ff748>"
      ]
     },
     "metadata": {},
     "output_type": "display_data"
    }
   ],
   "source": [
    "sns.lmplot(x='YOJ', y='VALUE', hue='BAD', data=data, fit_reg=False, scatter_kws={'alpha':0.5});"
   ]
  },
  {
   "cell_type": "code",
   "execution_count": 61,
   "metadata": {},
   "outputs": [
    {
     "data": {
      "text/plain": [
       "<matplotlib.axes._subplots.AxesSubplot at 0x1a22325358>"
      ]
     },
     "execution_count": 61,
     "metadata": {},
     "output_type": "execute_result"
    },
    {
     "data": {
      "image/png": "[encoded data removed]",
      "text/plain": [
       "<matplotlib.figure.Figure at 0x1a224888d0>"
      ]
     },
     "metadata": {},
     "output_type": "display_data"
    }
   ],
   "source": [
    "data.boxplot(column='VALUE', by ='JOB')"
   ]
  },
  {
   "cell_type": "code",
   "execution_count": 62,
   "metadata": {},
   "outputs": [
    {
     "data": {
      "text/plain": [
       "<matplotlib.axes._subplots.AxesSubplot at 0x1a224c61d0>"
      ]
     },
     "execution_count": 62,
     "metadata": {},
     "output_type": "execute_result"
    },
    {
     "data": {
      "image/png": "[encoded data removed]",
      "text/plain": [
       "<matplotlib.figure.Figure at 0x1a22680080>"
      ]
     },
     "metadata": {},
     "output_type": "display_data"
    }
   ],
   "source": [
    "data.CLAGE.plot(kind='hist')"
   ]
  },
  {
   "cell_type": "markdown",
   "metadata": {},
   "source": [
    "##### Membuat Column baru untuk mengetahui setiap row memiliki berapa missing value "
   ]
  },
  {
   "cell_type": "code",
   "execution_count": 63,
   "metadata": {},
   "outputs": [],
   "source": [
    "data['Mis_Col'] = data.isnull().sum(axis=1)"
   ]
  },
  {
   "cell_type": "code",
   "execution_count": 64,
   "metadata": {
    "scrolled": true
   },
   "outputs": [
    {
     "data": {
      "text/plain": [
       "0     3358\n",
       "1     1571\n",
       "2      391\n",
       "3      203\n",
       "5       79\n",
       "6       64\n",
       "4       59\n",
       "9       46\n",
       "8       35\n",
       "7       22\n",
       "10       5\n",
       "Name: Mis_Col, dtype: int64"
      ]
     },
     "execution_count": 64,
     "metadata": {},
     "output_type": "execute_result"
    }
   ],
   "source": [
    "data['Mis_Col'].value_counts()"
   ]
  },
  {
   "cell_type": "markdown",
   "metadata": {},
   "source": [
    "##### Ada 108 row yang memiliki >= 7 columns berisi missing value "
   ]
  },
  {
   "cell_type": "code",
   "execution_count": 66,
   "metadata": {},
   "outputs": [
    {
     "data": {
      "text/plain": [
       "(108, 14)"
      ]
     },
     "execution_count": 66,
     "metadata": {},
     "output_type": "execute_result"
    }
   ],
   "source": [
    "data[data['Mis_Col']>=7].shape"
   ]
  },
  {
   "cell_type": "code",
   "execution_count": 67,
   "metadata": {},
   "outputs": [
    {
     "data": {
      "text/html": [
       "<div>\n",
       "<style scoped>\n",
       "    .dataframe tbody tr th:only-of-type {\n",
       "        vertical-align: middle;\n",
       "    }\n",
       "\n",
       "    .dataframe tbody tr th {\n",
       "        vertical-align: top;\n",
       "    }\n",
       "\n",
       "    .dataframe thead th {\n",
       "        text-align: right;\n",
       "    }\n",
       "</style>\n",
       "<table border=\"1\" class=\"dataframe\">\n",
       "  <thead>\n",
       "    <tr style=\"text-align: right;\">\n",
       "      <th></th>\n",
       "      <th>BAD</th>\n",
       "      <th>LOAN</th>\n",
       "      <th>MORTDUE</th>\n",
       "      <th>VALUE</th>\n",
       "      <th>REASON</th>\n",
       "      <th>JOB</th>\n",
       "      <th>YOJ</th>\n",
       "      <th>DEROG</th>\n",
       "      <th>DELINQ</th>\n",
       "      <th>CLAGE</th>\n",
       "      <th>NINQ</th>\n",
       "      <th>CLNO</th>\n",
       "      <th>DEBTINC</th>\n",
       "      <th>Mis_Col</th>\n",
       "    </tr>\n",
       "  </thead>\n",
       "  <tbody>\n",
       "    <tr>\n",
       "      <th>0</th>\n",
       "      <td>1</td>\n",
       "      <td>1100</td>\n",
       "      <td>25860.0</td>\n",
       "      <td>39025.0</td>\n",
       "      <td>HomeImp</td>\n",
       "      <td>Other</td>\n",
       "      <td>10.5</td>\n",
       "      <td>0.0</td>\n",
       "      <td>0.0</td>\n",
       "      <td>94.366667</td>\n",
       "      <td>1.0</td>\n",
       "      <td>9.0</td>\n",
       "      <td>NaN</td>\n",
       "      <td>1</td>\n",
       "    </tr>\n",
       "    <tr>\n",
       "      <th>1</th>\n",
       "      <td>1</td>\n",
       "      <td>1300</td>\n",
       "      <td>70053.0</td>\n",
       "      <td>68400.0</td>\n",
       "      <td>HomeImp</td>\n",
       "      <td>Other</td>\n",
       "      <td>7.0</td>\n",
       "      <td>0.0</td>\n",
       "      <td>2.0</td>\n",
       "      <td>121.833333</td>\n",
       "      <td>0.0</td>\n",
       "      <td>14.0</td>\n",
       "      <td>NaN</td>\n",
       "      <td>1</td>\n",
       "    </tr>\n",
       "    <tr>\n",
       "      <th>2</th>\n",
       "      <td>1</td>\n",
       "      <td>1500</td>\n",
       "      <td>13500.0</td>\n",
       "      <td>16700.0</td>\n",
       "      <td>HomeImp</td>\n",
       "      <td>Other</td>\n",
       "      <td>4.0</td>\n",
       "      <td>0.0</td>\n",
       "      <td>0.0</td>\n",
       "      <td>149.466667</td>\n",
       "      <td>1.0</td>\n",
       "      <td>10.0</td>\n",
       "      <td>NaN</td>\n",
       "      <td>1</td>\n",
       "    </tr>\n",
       "    <tr>\n",
       "      <th>4</th>\n",
       "      <td>0</td>\n",
       "      <td>1700</td>\n",
       "      <td>97800.0</td>\n",
       "      <td>112000.0</td>\n",
       "      <td>HomeImp</td>\n",
       "      <td>Office</td>\n",
       "      <td>3.0</td>\n",
       "      <td>0.0</td>\n",
       "      <td>0.0</td>\n",
       "      <td>93.333333</td>\n",
       "      <td>0.0</td>\n",
       "      <td>14.0</td>\n",
       "      <td>NaN</td>\n",
       "      <td>1</td>\n",
       "    </tr>\n",
       "    <tr>\n",
       "      <th>5</th>\n",
       "      <td>1</td>\n",
       "      <td>1700</td>\n",
       "      <td>30548.0</td>\n",
       "      <td>40320.0</td>\n",
       "      <td>HomeImp</td>\n",
       "      <td>Other</td>\n",
       "      <td>9.0</td>\n",
       "      <td>0.0</td>\n",
       "      <td>0.0</td>\n",
       "      <td>101.466002</td>\n",
       "      <td>1.0</td>\n",
       "      <td>8.0</td>\n",
       "      <td>37.113614</td>\n",
       "      <td>0</td>\n",
       "    </tr>\n",
       "  </tbody>\n",
       "</table>\n",
       "</div>"
      ],
      "text/plain": [
       "   BAD  LOAN  MORTDUE     VALUE   REASON     JOB   YOJ  DEROG  DELINQ  \\\n",
       "0    1  1100  25860.0   39025.0  HomeImp   Other  10.5    0.0     0.0   \n",
       "1    1  1300  70053.0   68400.0  HomeImp   Other   7.0    0.0     2.0   \n",
       "2    1  1500  13500.0   16700.0  HomeImp   Other   4.0    0.0     0.0   \n",
       "4    0  1700  97800.0  112000.0  HomeImp  Office   3.0    0.0     0.0   \n",
       "5    1  1700  30548.0   40320.0  HomeImp   Other   9.0    0.0     0.0   \n",
       "\n",
       "        CLAGE  NINQ  CLNO    DEBTINC  Mis_Col  \n",
       "0   94.366667   1.0   9.0        NaN        1  \n",
       "1  121.833333   0.0  14.0        NaN        1  \n",
       "2  149.466667   1.0  10.0        NaN        1  \n",
       "4   93.333333   0.0  14.0        NaN        1  \n",
       "5  101.466002   1.0   8.0  37.113614        0  "
      ]
     },
     "execution_count": 67,
     "metadata": {},
     "output_type": "execute_result"
    }
   ],
   "source": [
    "data.head()"
   ]
  },
  {
   "cell_type": "markdown",
   "metadata": {},
   "source": [
    "##### Hanya mengambil row yang memiliki missing value kurang dari 7 columns "
   ]
  },
  {
   "cell_type": "code",
   "execution_count": 68,
   "metadata": {},
   "outputs": [],
   "source": [
    "data = data[data['Mis_Col']<7]"
   ]
  },
  {
   "cell_type": "code",
   "execution_count": 69,
   "metadata": {},
   "outputs": [
    {
     "data": {
      "text/plain": [
       "0    3358\n",
       "1    1571\n",
       "2     391\n",
       "3     203\n",
       "5      79\n",
       "6      64\n",
       "4      59\n",
       "Name: Mis_Col, dtype: int64"
      ]
     },
     "execution_count": 69,
     "metadata": {},
     "output_type": "execute_result"
    }
   ],
   "source": [
    "data['Mis_Col'].value_counts()"
   ]
  },
  {
   "cell_type": "code",
   "execution_count": 70,
   "metadata": {},
   "outputs": [],
   "source": [
    "data.drop('Mis_Col', axis=1, inplace = True)"
   ]
  },
  {
   "cell_type": "code",
   "execution_count": 71,
   "metadata": {},
   "outputs": [
    {
     "data": {
      "text/html": [
       "<div>\n",
       "<style scoped>\n",
       "    .dataframe tbody tr th:only-of-type {\n",
       "        vertical-align: middle;\n",
       "    }\n",
       "\n",
       "    .dataframe tbody tr th {\n",
       "        vertical-align: top;\n",
       "    }\n",
       "\n",
       "    .dataframe thead th {\n",
       "        text-align: right;\n",
       "    }\n",
       "</style>\n",
       "<table border=\"1\" class=\"dataframe\">\n",
       "  <thead>\n",
       "    <tr style=\"text-align: right;\">\n",
       "      <th></th>\n",
       "      <th>BAD</th>\n",
       "      <th>LOAN</th>\n",
       "      <th>MORTDUE</th>\n",
       "      <th>VALUE</th>\n",
       "      <th>REASON</th>\n",
       "      <th>JOB</th>\n",
       "      <th>YOJ</th>\n",
       "      <th>DEROG</th>\n",
       "      <th>DELINQ</th>\n",
       "      <th>CLAGE</th>\n",
       "      <th>NINQ</th>\n",
       "      <th>CLNO</th>\n",
       "      <th>DEBTINC</th>\n",
       "    </tr>\n",
       "  </thead>\n",
       "  <tbody>\n",
       "    <tr>\n",
       "      <th>0</th>\n",
       "      <td>1</td>\n",
       "      <td>1100</td>\n",
       "      <td>25860.0</td>\n",
       "      <td>39025.0</td>\n",
       "      <td>HomeImp</td>\n",
       "      <td>Other</td>\n",
       "      <td>10.5</td>\n",
       "      <td>0.0</td>\n",
       "      <td>0.0</td>\n",
       "      <td>94.366667</td>\n",
       "      <td>1.0</td>\n",
       "      <td>9.0</td>\n",
       "      <td>NaN</td>\n",
       "    </tr>\n",
       "    <tr>\n",
       "      <th>1</th>\n",
       "      <td>1</td>\n",
       "      <td>1300</td>\n",
       "      <td>70053.0</td>\n",
       "      <td>68400.0</td>\n",
       "      <td>HomeImp</td>\n",
       "      <td>Other</td>\n",
       "      <td>7.0</td>\n",
       "      <td>0.0</td>\n",
       "      <td>2.0</td>\n",
       "      <td>121.833333</td>\n",
       "      <td>0.0</td>\n",
       "      <td>14.0</td>\n",
       "      <td>NaN</td>\n",
       "    </tr>\n",
       "    <tr>\n",
       "      <th>2</th>\n",
       "      <td>1</td>\n",
       "      <td>1500</td>\n",
       "      <td>13500.0</td>\n",
       "      <td>16700.0</td>\n",
       "      <td>HomeImp</td>\n",
       "      <td>Other</td>\n",
       "      <td>4.0</td>\n",
       "      <td>0.0</td>\n",
       "      <td>0.0</td>\n",
       "      <td>149.466667</td>\n",
       "      <td>1.0</td>\n",
       "      <td>10.0</td>\n",
       "      <td>NaN</td>\n",
       "    </tr>\n",
       "    <tr>\n",
       "      <th>4</th>\n",
       "      <td>0</td>\n",
       "      <td>1700</td>\n",
       "      <td>97800.0</td>\n",
       "      <td>112000.0</td>\n",
       "      <td>HomeImp</td>\n",
       "      <td>Office</td>\n",
       "      <td>3.0</td>\n",
       "      <td>0.0</td>\n",
       "      <td>0.0</td>\n",
       "      <td>93.333333</td>\n",
       "      <td>0.0</td>\n",
       "      <td>14.0</td>\n",
       "      <td>NaN</td>\n",
       "    </tr>\n",
       "    <tr>\n",
       "      <th>5</th>\n",
       "      <td>1</td>\n",
       "      <td>1700</td>\n",
       "      <td>30548.0</td>\n",
       "      <td>40320.0</td>\n",
       "      <td>HomeImp</td>\n",
       "      <td>Other</td>\n",
       "      <td>9.0</td>\n",
       "      <td>0.0</td>\n",
       "      <td>0.0</td>\n",
       "      <td>101.466002</td>\n",
       "      <td>1.0</td>\n",
       "      <td>8.0</td>\n",
       "      <td>37.113614</td>\n",
       "    </tr>\n",
       "  </tbody>\n",
       "</table>\n",
       "</div>"
      ],
      "text/plain": [
       "   BAD  LOAN  MORTDUE     VALUE   REASON     JOB   YOJ  DEROG  DELINQ  \\\n",
       "0    1  1100  25860.0   39025.0  HomeImp   Other  10.5    0.0     0.0   \n",
       "1    1  1300  70053.0   68400.0  HomeImp   Other   7.0    0.0     2.0   \n",
       "2    1  1500  13500.0   16700.0  HomeImp   Other   4.0    0.0     0.0   \n",
       "4    0  1700  97800.0  112000.0  HomeImp  Office   3.0    0.0     0.0   \n",
       "5    1  1700  30548.0   40320.0  HomeImp   Other   9.0    0.0     0.0   \n",
       "\n",
       "        CLAGE  NINQ  CLNO    DEBTINC  \n",
       "0   94.366667   1.0   9.0        NaN  \n",
       "1  121.833333   0.0  14.0        NaN  \n",
       "2  149.466667   1.0  10.0        NaN  \n",
       "4   93.333333   0.0  14.0        NaN  \n",
       "5  101.466002   1.0   8.0  37.113614  "
      ]
     },
     "execution_count": 71,
     "metadata": {},
     "output_type": "execute_result"
    }
   ],
   "source": [
    "data.head()"
   ]
  },
  {
   "cell_type": "markdown",
   "metadata": {},
   "source": [
    "## How to Handle Missing Value:\n",
    "\n",
    "### Categorical or Discrete Data:\n",
    "##### 1. Ignore the row that has missing value, or it's possible to ignore the column if there are more than 50% nan value in the column\n",
    "##### 2. Treat missing data as another category\n",
    "##### 3. Replace by most frequent value\n",
    "##### 4. Develop model to predict missing value\n",
    "\n",
    "### Numerical Data or Continuous:\n",
    "##### 1. Ignore the row that has missing value, or it's possible to ignore the column if there are more than 50% nan value in the column\n",
    "##### 2. Replace with mean of column or median of column(if there are many outliers)\n",
    "##### 3. Replace with certain value such as -9999(In this case we still try to treat them as missing value)\n",
    "##### 4. Build model to predict missing value"
   ]
  },
  {
   "cell_type": "code",
   "execution_count": 72,
   "metadata": {},
   "outputs": [
    {
     "name": "stdout",
     "output_type": "stream",
     "text": [
      "BAD - 0\n",
      "LOAN - 0\n",
      "MORTDUE - 426\n",
      "VALUE - 0\n",
      "REASON - 157\n",
      "JOB - 167\n",
      "YOJ - 405\n",
      "DEROG - 570\n",
      "DELINQ - 445\n",
      "CLAGE - 180\n",
      "NINQ - 381\n",
      "CLNO - 95\n",
      "DEBTINC - 1151\n"
     ]
    }
   ],
   "source": [
    "nama_col = data.columns\n",
    "for i in nama_col:\n",
    "    print(i + \" - \" +str(data[i].isnull().sum()))"
   ]
  },
  {
   "cell_type": "markdown",
   "metadata": {},
   "source": [
    "### Isi missing value untuk column bagian Categoircal yang berupa string (REASON dan JOB)"
   ]
  },
  {
   "cell_type": "code",
   "execution_count": 73,
   "metadata": {},
   "outputs": [
    {
     "data": {
      "text/plain": [
       "DebtCon    3847\n",
       "HomeImp    1721\n",
       "Name: REASON, dtype: int64"
      ]
     },
     "execution_count": 73,
     "metadata": {},
     "output_type": "execute_result"
    }
   ],
   "source": [
    "data['REASON'].value_counts()"
   ]
  },
  {
   "cell_type": "code",
   "execution_count": 74,
   "metadata": {},
   "outputs": [
    {
     "data": {
      "text/plain": [
       "Other      2330\n",
       "ProfExe    1256\n",
       "Office      929\n",
       "Mgr         748\n",
       "Self        188\n",
       "Sales       107\n",
       "Name: JOB, dtype: int64"
      ]
     },
     "execution_count": 74,
     "metadata": {},
     "output_type": "execute_result"
    }
   ],
   "source": [
    "data['JOB'].value_counts()"
   ]
  },
  {
   "cell_type": "markdown",
   "metadata": {},
   "source": [
    "##### Untuk REASON, karena dari data dikasih tau bahwa hanya 2 pilihan artinya untuk mengisi missing value menggunakan modus  "
   ]
  },
  {
   "cell_type": "code",
   "execution_count": 75,
   "metadata": {},
   "outputs": [],
   "source": [
    "data['REASON'] =data['REASON'].replace(np.nan, 'DebtCon')"
   ]
  },
  {
   "cell_type": "code",
   "execution_count": 76,
   "metadata": {},
   "outputs": [
    {
     "data": {
      "text/plain": [
       "DebtCon    4004\n",
       "HomeImp    1721\n",
       "Name: REASON, dtype: int64"
      ]
     },
     "execution_count": 76,
     "metadata": {},
     "output_type": "execute_result"
    }
   ],
   "source": [
    "data['REASON'].value_counts()"
   ]
  },
  {
   "cell_type": "markdown",
   "metadata": {},
   "source": [
    "###### Untuk JOB sebenarnya ingin membuat categorical baru berupa \"other\", namun kebetulan udah ada jadi missing value dijadikan \"other\""
   ]
  },
  {
   "cell_type": "code",
   "execution_count": 77,
   "metadata": {},
   "outputs": [],
   "source": [
    "data['JOB'] =data['JOB'].replace(np.nan, 'Other')"
   ]
  },
  {
   "cell_type": "code",
   "execution_count": 78,
   "metadata": {},
   "outputs": [
    {
     "data": {
      "text/plain": [
       "Other      2497\n",
       "ProfExe    1256\n",
       "Office      929\n",
       "Mgr         748\n",
       "Self        188\n",
       "Sales       107\n",
       "Name: JOB, dtype: int64"
      ]
     },
     "execution_count": 78,
     "metadata": {},
     "output_type": "execute_result"
    }
   ],
   "source": [
    "data['JOB'].value_counts()"
   ]
  },
  {
   "cell_type": "code",
   "execution_count": 79,
   "metadata": {},
   "outputs": [
    {
     "name": "stdout",
     "output_type": "stream",
     "text": [
      "<class 'pandas.core.frame.DataFrame'>\n",
      "Int64Index: 5725 entries, 0 to 5957\n",
      "Data columns (total 13 columns):\n",
      "BAD        5725 non-null int64\n",
      "LOAN       5725 non-null int64\n",
      "MORTDUE    5299 non-null float64\n",
      "VALUE      5725 non-null float64\n",
      "REASON     5725 non-null object\n",
      "JOB        5725 non-null object\n",
      "YOJ        5320 non-null float64\n",
      "DEROG      5155 non-null float64\n",
      "DELINQ     5280 non-null float64\n",
      "CLAGE      5545 non-null float64\n",
      "NINQ       5344 non-null float64\n",
      "CLNO       5630 non-null float64\n",
      "DEBTINC    4574 non-null float64\n",
      "dtypes: float64(9), int64(2), object(2)\n",
      "memory usage: 626.2+ KB\n"
     ]
    }
   ],
   "source": [
    "data.info()"
   ]
  },
  {
   "cell_type": "code",
   "execution_count": 80,
   "metadata": {},
   "outputs": [
    {
     "name": "stdout",
     "output_type": "stream",
     "text": [
      "BAD - 0\n",
      "LOAN - 0\n",
      "MORTDUE - 426\n",
      "VALUE - 0\n",
      "REASON - 0\n",
      "JOB - 0\n",
      "YOJ - 405\n",
      "DEROG - 570\n",
      "DELINQ - 445\n",
      "CLAGE - 180\n",
      "NINQ - 381\n",
      "CLNO - 95\n",
      "DEBTINC - 1151\n"
     ]
    }
   ],
   "source": [
    "nama_col = data.columns\n",
    "for i in nama_col:\n",
    "    print(i + \" - \" +str(data[i].isnull().sum()))"
   ]
  },
  {
   "cell_type": "code",
   "execution_count": 81,
   "metadata": {},
   "outputs": [
    {
     "data": {
      "text/html": [
       "<div>\n",
       "<style scoped>\n",
       "    .dataframe tbody tr th:only-of-type {\n",
       "        vertical-align: middle;\n",
       "    }\n",
       "\n",
       "    .dataframe tbody tr th {\n",
       "        vertical-align: top;\n",
       "    }\n",
       "\n",
       "    .dataframe thead th {\n",
       "        text-align: right;\n",
       "    }\n",
       "</style>\n",
       "<table border=\"1\" class=\"dataframe\">\n",
       "  <thead>\n",
       "    <tr style=\"text-align: right;\">\n",
       "      <th></th>\n",
       "      <th>BAD</th>\n",
       "      <th>LOAN</th>\n",
       "      <th>MORTDUE</th>\n",
       "      <th>VALUE</th>\n",
       "      <th>YOJ</th>\n",
       "      <th>DEROG</th>\n",
       "      <th>DELINQ</th>\n",
       "      <th>CLAGE</th>\n",
       "      <th>NINQ</th>\n",
       "      <th>CLNO</th>\n",
       "      <th>DEBTINC</th>\n",
       "    </tr>\n",
       "  </thead>\n",
       "  <tbody>\n",
       "    <tr>\n",
       "      <th>count</th>\n",
       "      <td>5725.000000</td>\n",
       "      <td>5725.000000</td>\n",
       "      <td>5299.000000</td>\n",
       "      <td>5725.000000</td>\n",
       "      <td>5320.000000</td>\n",
       "      <td>5155.000000</td>\n",
       "      <td>5280.000000</td>\n",
       "      <td>5545.000000</td>\n",
       "      <td>5344.000000</td>\n",
       "      <td>5630.000000</td>\n",
       "      <td>4574.000000</td>\n",
       "    </tr>\n",
       "    <tr>\n",
       "      <th>mean</th>\n",
       "      <td>0.184978</td>\n",
       "      <td>18720.943231</td>\n",
       "      <td>73868.341423</td>\n",
       "      <td>102109.880793</td>\n",
       "      <td>8.910620</td>\n",
       "      <td>0.240543</td>\n",
       "      <td>0.423485</td>\n",
       "      <td>180.114809</td>\n",
       "      <td>1.184693</td>\n",
       "      <td>21.294139</td>\n",
       "      <td>33.909004</td>\n",
       "    </tr>\n",
       "    <tr>\n",
       "      <th>std</th>\n",
       "      <td>0.388314</td>\n",
       "      <td>11272.533601</td>\n",
       "      <td>44264.905444</td>\n",
       "      <td>57599.866871</td>\n",
       "      <td>7.559297</td>\n",
       "      <td>0.815989</td>\n",
       "      <td>1.078215</td>\n",
       "      <td>86.072346</td>\n",
       "      <td>1.726407</td>\n",
       "      <td>10.112486</td>\n",
       "      <td>8.529834</td>\n",
       "    </tr>\n",
       "    <tr>\n",
       "      <th>min</th>\n",
       "      <td>0.000000</td>\n",
       "      <td>1100.000000</td>\n",
       "      <td>2063.000000</td>\n",
       "      <td>8000.000000</td>\n",
       "      <td>0.000000</td>\n",
       "      <td>0.000000</td>\n",
       "      <td>0.000000</td>\n",
       "      <td>0.000000</td>\n",
       "      <td>0.000000</td>\n",
       "      <td>0.000000</td>\n",
       "      <td>0.000000</td>\n",
       "    </tr>\n",
       "    <tr>\n",
       "      <th>25%</th>\n",
       "      <td>0.000000</td>\n",
       "      <td>11200.000000</td>\n",
       "      <td>46565.000000</td>\n",
       "      <td>66226.000000</td>\n",
       "      <td>3.000000</td>\n",
       "      <td>0.000000</td>\n",
       "      <td>0.000000</td>\n",
       "      <td>115.076186</td>\n",
       "      <td>0.000000</td>\n",
       "      <td>15.000000</td>\n",
       "      <td>29.269134</td>\n",
       "    </tr>\n",
       "    <tr>\n",
       "      <th>50%</th>\n",
       "      <td>0.000000</td>\n",
       "      <td>16400.000000</td>\n",
       "      <td>65021.000000</td>\n",
       "      <td>89634.000000</td>\n",
       "      <td>7.000000</td>\n",
       "      <td>0.000000</td>\n",
       "      <td>0.000000</td>\n",
       "      <td>173.690461</td>\n",
       "      <td>1.000000</td>\n",
       "      <td>20.000000</td>\n",
       "      <td>34.888239</td>\n",
       "    </tr>\n",
       "    <tr>\n",
       "      <th>75%</th>\n",
       "      <td>0.000000</td>\n",
       "      <td>23400.000000</td>\n",
       "      <td>91485.000000</td>\n",
       "      <td>119780.000000</td>\n",
       "      <td>13.000000</td>\n",
       "      <td>0.000000</td>\n",
       "      <td>0.000000</td>\n",
       "      <td>232.315545</td>\n",
       "      <td>2.000000</td>\n",
       "      <td>26.000000</td>\n",
       "      <td>39.081422</td>\n",
       "    </tr>\n",
       "    <tr>\n",
       "      <th>max</th>\n",
       "      <td>1.000000</td>\n",
       "      <td>89900.000000</td>\n",
       "      <td>399412.000000</td>\n",
       "      <td>855909.000000</td>\n",
       "      <td>41.000000</td>\n",
       "      <td>10.000000</td>\n",
       "      <td>15.000000</td>\n",
       "      <td>1168.233561</td>\n",
       "      <td>17.000000</td>\n",
       "      <td>65.000000</td>\n",
       "      <td>203.312149</td>\n",
       "    </tr>\n",
       "  </tbody>\n",
       "</table>\n",
       "</div>"
      ],
      "text/plain": [
       "               BAD          LOAN        MORTDUE          VALUE          YOJ  \\\n",
       "count  5725.000000   5725.000000    5299.000000    5725.000000  5320.000000   \n",
       "mean      0.184978  18720.943231   73868.341423  102109.880793     8.910620   \n",
       "std       0.388314  11272.533601   44264.905444   57599.866871     7.559297   \n",
       "min       0.000000   1100.000000    2063.000000    8000.000000     0.000000   \n",
       "25%       0.000000  11200.000000   46565.000000   66226.000000     3.000000   \n",
       "50%       0.000000  16400.000000   65021.000000   89634.000000     7.000000   \n",
       "75%       0.000000  23400.000000   91485.000000  119780.000000    13.000000   \n",
       "max       1.000000  89900.000000  399412.000000  855909.000000    41.000000   \n",
       "\n",
       "             DEROG       DELINQ        CLAGE         NINQ         CLNO  \\\n",
       "count  5155.000000  5280.000000  5545.000000  5344.000000  5630.000000   \n",
       "mean      0.240543     0.423485   180.114809     1.184693    21.294139   \n",
       "std       0.815989     1.078215    86.072346     1.726407    10.112486   \n",
       "min       0.000000     0.000000     0.000000     0.000000     0.000000   \n",
       "25%       0.000000     0.000000   115.076186     0.000000    15.000000   \n",
       "50%       0.000000     0.000000   173.690461     1.000000    20.000000   \n",
       "75%       0.000000     0.000000   232.315545     2.000000    26.000000   \n",
       "max      10.000000    15.000000  1168.233561    17.000000    65.000000   \n",
       "\n",
       "           DEBTINC  \n",
       "count  4574.000000  \n",
       "mean     33.909004  \n",
       "std       8.529834  \n",
       "min       0.000000  \n",
       "25%      29.269134  \n",
       "50%      34.888239  \n",
       "75%      39.081422  \n",
       "max     203.312149  "
      ]
     },
     "execution_count": 81,
     "metadata": {},
     "output_type": "execute_result"
    }
   ],
   "source": [
    "data.describe()"
   ]
  },
  {
   "cell_type": "markdown",
   "metadata": {},
   "source": [
    "### Isi missing value untuk column bagian Numerical  "
   ]
  },
  {
   "cell_type": "markdown",
   "metadata": {},
   "source": [
    "#### Isi Missing Value untuk column bagian Numerical Discrete(DEROG , DELINQ) \n",
    "###### Disini akan menggunakan MEDIAN dari setiap column  karena data tersebut tidak continue, jika kita gunakan mean juga akan menghasilkan angka decimal"
   ]
  },
  {
   "cell_type": "code",
   "execution_count": 82,
   "metadata": {},
   "outputs": [
    {
     "data": {
      "text/plain": [
       "0.0     4473\n",
       "1.0      414\n",
       "2.0      147\n",
       "3.0       57\n",
       "4.0       21\n",
       "5.0       15\n",
       "6.0       12\n",
       "8.0        6\n",
       "7.0        5\n",
       "9.0        3\n",
       "10.0       2\n",
       "Name: DEROG, dtype: int64"
      ]
     },
     "execution_count": 82,
     "metadata": {},
     "output_type": "execute_result"
    }
   ],
   "source": [
    "data['DEROG'].value_counts()"
   ]
  },
  {
   "cell_type": "code",
   "execution_count": 83,
   "metadata": {},
   "outputs": [
    {
     "data": {
      "text/plain": [
       "0.0     4140\n",
       "1.0      637\n",
       "2.0      231\n",
       "3.0      125\n",
       "4.0       69\n",
       "5.0       34\n",
       "6.0       23\n",
       "7.0       12\n",
       "8.0        3\n",
       "11.0       2\n",
       "10.0       2\n",
       "13.0       1\n",
       "15.0       1\n",
       "Name: DELINQ, dtype: int64"
      ]
     },
     "execution_count": 83,
     "metadata": {},
     "output_type": "execute_result"
    }
   ],
   "source": [
    "data['DELINQ'].value_counts()"
   ]
  },
  {
   "cell_type": "code",
   "execution_count": 84,
   "metadata": {},
   "outputs": [
    {
     "name": "stdout",
     "output_type": "stream",
     "text": [
      "0.0\n"
     ]
    }
   ],
   "source": [
    "print(data['DEROG'].median())"
   ]
  },
  {
   "cell_type": "code",
   "execution_count": 85,
   "metadata": {},
   "outputs": [
    {
     "name": "stdout",
     "output_type": "stream",
     "text": [
      "0.0\n"
     ]
    }
   ],
   "source": [
    "print(data['DELINQ'].median())"
   ]
  },
  {
   "cell_type": "code",
   "execution_count": 86,
   "metadata": {},
   "outputs": [],
   "source": [
    "data['DEROG'].fillna(data['DEROG'].median(), inplace = True)"
   ]
  },
  {
   "cell_type": "code",
   "execution_count": 87,
   "metadata": {},
   "outputs": [],
   "source": [
    "data['DELINQ'].fillna(data['DELINQ'].median(), inplace = True)"
   ]
  },
  {
   "cell_type": "code",
   "execution_count": 88,
   "metadata": {},
   "outputs": [
    {
     "data": {
      "text/plain": [
       "0.0     5043\n",
       "1.0      414\n",
       "2.0      147\n",
       "3.0       57\n",
       "4.0       21\n",
       "5.0       15\n",
       "6.0       12\n",
       "8.0        6\n",
       "7.0        5\n",
       "9.0        3\n",
       "10.0       2\n",
       "Name: DEROG, dtype: int64"
      ]
     },
     "execution_count": 88,
     "metadata": {},
     "output_type": "execute_result"
    }
   ],
   "source": [
    "data['DEROG'].value_counts()"
   ]
  },
  {
   "cell_type": "code",
   "execution_count": 89,
   "metadata": {},
   "outputs": [
    {
     "name": "stdout",
     "output_type": "stream",
     "text": [
      "0.0     4585\n",
      "1.0      637\n",
      "2.0      231\n",
      "3.0      125\n",
      "4.0       69\n",
      "5.0       34\n",
      "6.0       23\n",
      "7.0       12\n",
      "8.0        3\n",
      "11.0       2\n",
      "10.0       2\n",
      "13.0       1\n",
      "15.0       1\n",
      "Name: DELINQ, dtype: int64\n"
     ]
    }
   ],
   "source": [
    "print(data['DELINQ'].value_counts())"
   ]
  },
  {
   "cell_type": "code",
   "execution_count": 90,
   "metadata": {},
   "outputs": [],
   "source": [
    "data['NINQ'].fillna(data['NINQ'].median(), inplace = True)"
   ]
  },
  {
   "cell_type": "code",
   "execution_count": 91,
   "metadata": {},
   "outputs": [],
   "source": [
    "data['CLNO'].fillna(data['CLNO'].median(), inplace = True)"
   ]
  },
  {
   "cell_type": "markdown",
   "metadata": {},
   "source": [
    "#### Isi Missing Value untuk column bagian Numerical Continiuous\n",
    "###### Disini akan menggunakan MEAN atau MEDIAN dari setiap column\n",
    "\n",
    "###### Kalau antara median dan mean tidak beda jauh disarankan menggunakan mean, namun jika median dan mean jauh karena ada outlier, gunakan median"
   ]
  },
  {
   "cell_type": "code",
   "execution_count": 92,
   "metadata": {},
   "outputs": [
    {
     "data": {
      "text/plain": [
       "0.0     407\n",
       "1.0     353\n",
       "2.0     341\n",
       "5.0     327\n",
       "4.0     317\n",
       "6.0     317\n",
       "3.0     299\n",
       "10.0    283\n",
       "9.0     279\n",
       "8.0     248\n",
       "Name: YOJ, dtype: int64"
      ]
     },
     "execution_count": 92,
     "metadata": {},
     "output_type": "execute_result"
    }
   ],
   "source": [
    "data['YOJ'].value_counts().head(10)"
   ]
  },
  {
   "cell_type": "code",
   "execution_count": 93,
   "metadata": {},
   "outputs": [
    {
     "data": {
      "text/plain": [
       "8.910620300751885"
      ]
     },
     "execution_count": 93,
     "metadata": {},
     "output_type": "execute_result"
    }
   ],
   "source": [
    "data['YOJ'].mean()"
   ]
  },
  {
   "cell_type": "code",
   "execution_count": 94,
   "metadata": {},
   "outputs": [],
   "source": [
    "data['YOJ'].fillna(data['YOJ'].mean(), inplace = True)"
   ]
  },
  {
   "cell_type": "code",
   "execution_count": 95,
   "metadata": {},
   "outputs": [
    {
     "name": "stdout",
     "output_type": "stream",
     "text": [
      "0.00000     407\n",
      "8.91062     405\n",
      "1.00000     353\n",
      "2.00000     341\n",
      "5.00000     327\n",
      "6.00000     317\n",
      "4.00000     317\n",
      "3.00000     299\n",
      "10.00000    283\n",
      "9.00000     279\n",
      "Name: YOJ, dtype: int64\n"
     ]
    }
   ],
   "source": [
    "print(data['YOJ'].value_counts().head(10))"
   ]
  },
  {
   "cell_type": "code",
   "execution_count": 96,
   "metadata": {},
   "outputs": [
    {
     "data": {
      "text/plain": [
       "42000.0    11\n",
       "47000.0    10\n",
       "65000.0     7\n",
       "55000.0     7\n",
       "62000.0     7\n",
       "Name: MORTDUE, dtype: int64"
      ]
     },
     "execution_count": 96,
     "metadata": {},
     "output_type": "execute_result"
    }
   ],
   "source": [
    "data['MORTDUE'].value_counts().head()"
   ]
  },
  {
   "cell_type": "code",
   "execution_count": 97,
   "metadata": {},
   "outputs": [
    {
     "data": {
      "text/plain": [
       "65021.0"
      ]
     },
     "execution_count": 97,
     "metadata": {},
     "output_type": "execute_result"
    }
   ],
   "source": [
    "data['MORTDUE'].median()"
   ]
  },
  {
   "cell_type": "code",
   "execution_count": 98,
   "metadata": {},
   "outputs": [],
   "source": [
    "data['MORTDUE'].fillna(data['MORTDUE'].median(), inplace = True)"
   ]
  },
  {
   "cell_type": "code",
   "execution_count": 99,
   "metadata": {},
   "outputs": [],
   "source": [
    "data['DEBTINC'].fillna(data['DEBTINC'].mean(), inplace = True)"
   ]
  },
  {
   "cell_type": "code",
   "execution_count": 100,
   "metadata": {},
   "outputs": [],
   "source": [
    "data['CLAGE'].fillna(data['CLAGE'].mean(), inplace = True)"
   ]
  },
  {
   "cell_type": "markdown",
   "metadata": {},
   "source": [
    "### Dengan ini, sudah mengisi seluruh missing value"
   ]
  },
  {
   "cell_type": "code",
   "execution_count": 101,
   "metadata": {},
   "outputs": [
    {
     "name": "stdout",
     "output_type": "stream",
     "text": [
      "BAD - 0\n",
      "LOAN - 0\n",
      "MORTDUE - 0\n",
      "VALUE - 0\n",
      "REASON - 0\n",
      "JOB - 0\n",
      "YOJ - 0\n",
      "DEROG - 0\n",
      "DELINQ - 0\n",
      "CLAGE - 0\n",
      "NINQ - 0\n",
      "CLNO - 0\n",
      "DEBTINC - 0\n"
     ]
    }
   ],
   "source": [
    "nama_col = data.columns\n",
    "for i in nama_col:\n",
    "    print(i + \" - \" +str(data[i].isnull().sum()))"
   ]
  },
  {
   "cell_type": "code",
   "execution_count": 102,
   "metadata": {},
   "outputs": [
    {
     "name": "stdout",
     "output_type": "stream",
     "text": [
      "<class 'pandas.core.frame.DataFrame'>\n",
      "Int64Index: 5725 entries, 0 to 5957\n",
      "Data columns (total 13 columns):\n",
      "BAD        5725 non-null int64\n",
      "LOAN       5725 non-null int64\n",
      "MORTDUE    5725 non-null float64\n",
      "VALUE      5725 non-null float64\n",
      "REASON     5725 non-null object\n",
      "JOB        5725 non-null object\n",
      "YOJ        5725 non-null float64\n",
      "DEROG      5725 non-null float64\n",
      "DELINQ     5725 non-null float64\n",
      "CLAGE      5725 non-null float64\n",
      "NINQ       5725 non-null float64\n",
      "CLNO       5725 non-null float64\n",
      "DEBTINC    5725 non-null float64\n",
      "dtypes: float64(9), int64(2), object(2)\n",
      "memory usage: 626.2+ KB\n"
     ]
    }
   ],
   "source": [
    "data.info()"
   ]
  },
  {
   "cell_type": "code",
   "execution_count": 103,
   "metadata": {},
   "outputs": [
    {
     "data": {
      "text/html": [
       "<div>\n",
       "<style scoped>\n",
       "    .dataframe tbody tr th:only-of-type {\n",
       "        vertical-align: middle;\n",
       "    }\n",
       "\n",
       "    .dataframe tbody tr th {\n",
       "        vertical-align: top;\n",
       "    }\n",
       "\n",
       "    .dataframe thead th {\n",
       "        text-align: right;\n",
       "    }\n",
       "</style>\n",
       "<table border=\"1\" class=\"dataframe\">\n",
       "  <thead>\n",
       "    <tr style=\"text-align: right;\">\n",
       "      <th></th>\n",
       "      <th>BAD</th>\n",
       "      <th>LOAN</th>\n",
       "      <th>MORTDUE</th>\n",
       "      <th>VALUE</th>\n",
       "      <th>YOJ</th>\n",
       "      <th>DEROG</th>\n",
       "      <th>DELINQ</th>\n",
       "      <th>CLAGE</th>\n",
       "      <th>NINQ</th>\n",
       "      <th>CLNO</th>\n",
       "      <th>DEBTINC</th>\n",
       "    </tr>\n",
       "  </thead>\n",
       "  <tbody>\n",
       "    <tr>\n",
       "      <th>count</th>\n",
       "      <td>5725.000000</td>\n",
       "      <td>5725.000000</td>\n",
       "      <td>5725.000000</td>\n",
       "      <td>5725.000000</td>\n",
       "      <td>5725.000000</td>\n",
       "      <td>5725.000000</td>\n",
       "      <td>5725.000000</td>\n",
       "      <td>5725.000000</td>\n",
       "      <td>5725.000000</td>\n",
       "      <td>5725.000000</td>\n",
       "      <td>5725.000000</td>\n",
       "    </tr>\n",
       "    <tr>\n",
       "      <th>mean</th>\n",
       "      <td>0.184978</td>\n",
       "      <td>18720.943231</td>\n",
       "      <td>73210.006498</td>\n",
       "      <td>102109.880793</td>\n",
       "      <td>8.910620</td>\n",
       "      <td>0.216594</td>\n",
       "      <td>0.390568</td>\n",
       "      <td>180.114809</td>\n",
       "      <td>1.172402</td>\n",
       "      <td>21.272664</td>\n",
       "      <td>33.909004</td>\n",
       "    </tr>\n",
       "    <tr>\n",
       "      <th>std</th>\n",
       "      <td>0.388314</td>\n",
       "      <td>11272.533601</td>\n",
       "      <td>42649.148742</td>\n",
       "      <td>57599.866871</td>\n",
       "      <td>7.286963</td>\n",
       "      <td>0.777638</td>\n",
       "      <td>1.041646</td>\n",
       "      <td>84.708197</td>\n",
       "      <td>1.668596</td>\n",
       "      <td>10.029580</td>\n",
       "      <td>7.624149</td>\n",
       "    </tr>\n",
       "    <tr>\n",
       "      <th>min</th>\n",
       "      <td>0.000000</td>\n",
       "      <td>1100.000000</td>\n",
       "      <td>2063.000000</td>\n",
       "      <td>8000.000000</td>\n",
       "      <td>0.000000</td>\n",
       "      <td>0.000000</td>\n",
       "      <td>0.000000</td>\n",
       "      <td>0.000000</td>\n",
       "      <td>0.000000</td>\n",
       "      <td>0.000000</td>\n",
       "      <td>0.000000</td>\n",
       "    </tr>\n",
       "    <tr>\n",
       "      <th>25%</th>\n",
       "      <td>0.000000</td>\n",
       "      <td>11200.000000</td>\n",
       "      <td>48100.000000</td>\n",
       "      <td>66226.000000</td>\n",
       "      <td>3.000000</td>\n",
       "      <td>0.000000</td>\n",
       "      <td>0.000000</td>\n",
       "      <td>116.632733</td>\n",
       "      <td>0.000000</td>\n",
       "      <td>15.000000</td>\n",
       "      <td>30.708487</td>\n",
       "    </tr>\n",
       "    <tr>\n",
       "      <th>50%</th>\n",
       "      <td>0.000000</td>\n",
       "      <td>16400.000000</td>\n",
       "      <td>65021.000000</td>\n",
       "      <td>89634.000000</td>\n",
       "      <td>8.000000</td>\n",
       "      <td>0.000000</td>\n",
       "      <td>0.000000</td>\n",
       "      <td>176.533333</td>\n",
       "      <td>1.000000</td>\n",
       "      <td>20.000000</td>\n",
       "      <td>33.909004</td>\n",
       "    </tr>\n",
       "    <tr>\n",
       "      <th>75%</th>\n",
       "      <td>0.000000</td>\n",
       "      <td>23400.000000</td>\n",
       "      <td>88898.000000</td>\n",
       "      <td>119780.000000</td>\n",
       "      <td>12.000000</td>\n",
       "      <td>0.000000</td>\n",
       "      <td>0.000000</td>\n",
       "      <td>229.474919</td>\n",
       "      <td>2.000000</td>\n",
       "      <td>26.000000</td>\n",
       "      <td>38.078963</td>\n",
       "    </tr>\n",
       "    <tr>\n",
       "      <th>max</th>\n",
       "      <td>1.000000</td>\n",
       "      <td>89900.000000</td>\n",
       "      <td>399412.000000</td>\n",
       "      <td>855909.000000</td>\n",
       "      <td>41.000000</td>\n",
       "      <td>10.000000</td>\n",
       "      <td>15.000000</td>\n",
       "      <td>1168.233561</td>\n",
       "      <td>17.000000</td>\n",
       "      <td>65.000000</td>\n",
       "      <td>203.312149</td>\n",
       "    </tr>\n",
       "  </tbody>\n",
       "</table>\n",
       "</div>"
      ],
      "text/plain": [
       "               BAD          LOAN        MORTDUE          VALUE          YOJ  \\\n",
       "count  5725.000000   5725.000000    5725.000000    5725.000000  5725.000000   \n",
       "mean      0.184978  18720.943231   73210.006498  102109.880793     8.910620   \n",
       "std       0.388314  11272.533601   42649.148742   57599.866871     7.286963   \n",
       "min       0.000000   1100.000000    2063.000000    8000.000000     0.000000   \n",
       "25%       0.000000  11200.000000   48100.000000   66226.000000     3.000000   \n",
       "50%       0.000000  16400.000000   65021.000000   89634.000000     8.000000   \n",
       "75%       0.000000  23400.000000   88898.000000  119780.000000    12.000000   \n",
       "max       1.000000  89900.000000  399412.000000  855909.000000    41.000000   \n",
       "\n",
       "             DEROG       DELINQ        CLAGE         NINQ         CLNO  \\\n",
       "count  5725.000000  5725.000000  5725.000000  5725.000000  5725.000000   \n",
       "mean      0.216594     0.390568   180.114809     1.172402    21.272664   \n",
       "std       0.777638     1.041646    84.708197     1.668596    10.029580   \n",
       "min       0.000000     0.000000     0.000000     0.000000     0.000000   \n",
       "25%       0.000000     0.000000   116.632733     0.000000    15.000000   \n",
       "50%       0.000000     0.000000   176.533333     1.000000    20.000000   \n",
       "75%       0.000000     0.000000   229.474919     2.000000    26.000000   \n",
       "max      10.000000    15.000000  1168.233561    17.000000    65.000000   \n",
       "\n",
       "           DEBTINC  \n",
       "count  5725.000000  \n",
       "mean     33.909004  \n",
       "std       7.624149  \n",
       "min       0.000000  \n",
       "25%      30.708487  \n",
       "50%      33.909004  \n",
       "75%      38.078963  \n",
       "max     203.312149  "
      ]
     },
     "execution_count": 103,
     "metadata": {},
     "output_type": "execute_result"
    }
   ],
   "source": [
    "data.describe()"
   ]
  },
  {
   "cell_type": "markdown",
   "metadata": {},
   "source": [
    "### Mengubah column String menjadi angka dengan melakukan One Hot Encoding atau Ordinal Encoding "
   ]
  },
  {
   "cell_type": "markdown",
   "metadata": {},
   "source": [
    "###### Ordinal Encoding adalah membuat data dalam bentuk string  menjadi angka, biasanya menggunakan lexicographic order, tetapi bisa juga random\n",
    "\n",
    "###### Untuk value di job akan menggunakan urutan lexicographic "
   ]
  },
  {
   "cell_type": "code",
   "execution_count": 104,
   "metadata": {},
   "outputs": [
    {
     "data": {
      "text/plain": [
       "Other      2497\n",
       "ProfExe    1256\n",
       "Office      929\n",
       "Mgr         748\n",
       "Self        188\n",
       "Sales       107\n",
       "Name: JOB, dtype: int64"
      ]
     },
     "execution_count": 104,
     "metadata": {},
     "output_type": "execute_result"
    }
   ],
   "source": [
    "data['JOB'].value_counts()"
   ]
  },
  {
   "cell_type": "code",
   "execution_count": 105,
   "metadata": {},
   "outputs": [],
   "source": [
    "mapper = {'Mgr': 1, 'Office': 2, 'Other':3, 'ProfExe':4, 'Sales':5, 'Self': 6}"
   ]
  },
  {
   "cell_type": "code",
   "execution_count": 106,
   "metadata": {},
   "outputs": [],
   "source": [
    "data['JOB'].replace(mapper, inplace = True)"
   ]
  },
  {
   "cell_type": "code",
   "execution_count": 107,
   "metadata": {},
   "outputs": [
    {
     "data": {
      "text/plain": [
       "3    2497\n",
       "4    1256\n",
       "2     929\n",
       "1     748\n",
       "6     188\n",
       "5     107\n",
       "Name: JOB, dtype: int64"
      ]
     },
     "execution_count": 107,
     "metadata": {},
     "output_type": "execute_result"
    }
   ],
   "source": [
    "data['JOB'].value_counts()"
   ]
  },
  {
   "cell_type": "markdown",
   "metadata": {},
   "source": [
    "###### Ont Hot Encoding artinya membuat column baru dengan menggunakan distinct value dari categorical data. Seperti column REASON yang memiliki 2 distinct value yaitu 'DebtCon' dan 'HomeImp', artinya kita membuat 2 column baru.\n",
    "\n",
    "###### Saat ini ada 2 cara membuat One Hot Encoding , yaitu pd.get_dummies atau sklearn OneHot Encoder . Disini akan dibuat menggunakan pd.get_dummies"
   ]
  },
  {
   "cell_type": "code",
   "execution_count": 108,
   "metadata": {},
   "outputs": [
    {
     "data": {
      "text/plain": [
       "DebtCon    4004\n",
       "HomeImp    1721\n",
       "Name: REASON, dtype: int64"
      ]
     },
     "execution_count": 108,
     "metadata": {},
     "output_type": "execute_result"
    }
   ],
   "source": [
    "data['REASON'].value_counts()"
   ]
  },
  {
   "cell_type": "code",
   "execution_count": 109,
   "metadata": {},
   "outputs": [],
   "source": [
    "data_REASON_dummies = pd.get_dummies(data['REASON'], prefix = 'REASON')"
   ]
  },
  {
   "cell_type": "code",
   "execution_count": 110,
   "metadata": {},
   "outputs": [
    {
     "data": {
      "text/html": [
       "<div>\n",
       "<style scoped>\n",
       "    .dataframe tbody tr th:only-of-type {\n",
       "        vertical-align: middle;\n",
       "    }\n",
       "\n",
       "    .dataframe tbody tr th {\n",
       "        vertical-align: top;\n",
       "    }\n",
       "\n",
       "    .dataframe thead th {\n",
       "        text-align: right;\n",
       "    }\n",
       "</style>\n",
       "<table border=\"1\" class=\"dataframe\">\n",
       "  <thead>\n",
       "    <tr style=\"text-align: right;\">\n",
       "      <th></th>\n",
       "      <th>REASON_DebtCon</th>\n",
       "      <th>REASON_HomeImp</th>\n",
       "    </tr>\n",
       "  </thead>\n",
       "  <tbody>\n",
       "    <tr>\n",
       "      <th>0</th>\n",
       "      <td>0</td>\n",
       "      <td>1</td>\n",
       "    </tr>\n",
       "    <tr>\n",
       "      <th>1</th>\n",
       "      <td>0</td>\n",
       "      <td>1</td>\n",
       "    </tr>\n",
       "    <tr>\n",
       "      <th>2</th>\n",
       "      <td>0</td>\n",
       "      <td>1</td>\n",
       "    </tr>\n",
       "    <tr>\n",
       "      <th>4</th>\n",
       "      <td>0</td>\n",
       "      <td>1</td>\n",
       "    </tr>\n",
       "    <tr>\n",
       "      <th>5</th>\n",
       "      <td>0</td>\n",
       "      <td>1</td>\n",
       "    </tr>\n",
       "  </tbody>\n",
       "</table>\n",
       "</div>"
      ],
      "text/plain": [
       "   REASON_DebtCon  REASON_HomeImp\n",
       "0               0               1\n",
       "1               0               1\n",
       "2               0               1\n",
       "4               0               1\n",
       "5               0               1"
      ]
     },
     "execution_count": 110,
     "metadata": {},
     "output_type": "execute_result"
    }
   ],
   "source": [
    "data_REASON_dummies.head()"
   ]
  },
  {
   "cell_type": "markdown",
   "metadata": {},
   "source": [
    "###### Agar mudah mengerti One Hot Encoding sebenarnya apa yang terjadi "
   ]
  },
  {
   "cell_type": "code",
   "execution_count": 111,
   "metadata": {},
   "outputs": [],
   "source": [
    "data_REASON_dummies2 = data_REASON_dummies.copy()"
   ]
  },
  {
   "cell_type": "code",
   "execution_count": 112,
   "metadata": {},
   "outputs": [],
   "source": [
    "data_REASON_dummies2['REASON'] = data['REASON']"
   ]
  },
  {
   "cell_type": "code",
   "execution_count": 113,
   "metadata": {},
   "outputs": [
    {
     "data": {
      "text/html": [
       "<div>\n",
       "<style scoped>\n",
       "    .dataframe tbody tr th:only-of-type {\n",
       "        vertical-align: middle;\n",
       "    }\n",
       "\n",
       "    .dataframe tbody tr th {\n",
       "        vertical-align: top;\n",
       "    }\n",
       "\n",
       "    .dataframe thead th {\n",
       "        text-align: right;\n",
       "    }\n",
       "</style>\n",
       "<table border=\"1\" class=\"dataframe\">\n",
       "  <thead>\n",
       "    <tr style=\"text-align: right;\">\n",
       "      <th></th>\n",
       "      <th>REASON_DebtCon</th>\n",
       "      <th>REASON_HomeImp</th>\n",
       "      <th>REASON</th>\n",
       "    </tr>\n",
       "  </thead>\n",
       "  <tbody>\n",
       "    <tr>\n",
       "      <th>0</th>\n",
       "      <td>0</td>\n",
       "      <td>1</td>\n",
       "      <td>HomeImp</td>\n",
       "    </tr>\n",
       "    <tr>\n",
       "      <th>1</th>\n",
       "      <td>0</td>\n",
       "      <td>1</td>\n",
       "      <td>HomeImp</td>\n",
       "    </tr>\n",
       "  </tbody>\n",
       "</table>\n",
       "</div>"
      ],
      "text/plain": [
       "   REASON_DebtCon  REASON_HomeImp   REASON\n",
       "0               0               1  HomeImp\n",
       "1               0               1  HomeImp"
      ]
     },
     "execution_count": 113,
     "metadata": {},
     "output_type": "execute_result"
    }
   ],
   "source": [
    "data_REASON_dummies2.head(2)"
   ]
  },
  {
   "cell_type": "code",
   "execution_count": 114,
   "metadata": {},
   "outputs": [
    {
     "data": {
      "text/html": [
       "<div>\n",
       "<style scoped>\n",
       "    .dataframe tbody tr th:only-of-type {\n",
       "        vertical-align: middle;\n",
       "    }\n",
       "\n",
       "    .dataframe tbody tr th {\n",
       "        vertical-align: top;\n",
       "    }\n",
       "\n",
       "    .dataframe thead th {\n",
       "        text-align: right;\n",
       "    }\n",
       "</style>\n",
       "<table border=\"1\" class=\"dataframe\">\n",
       "  <thead>\n",
       "    <tr style=\"text-align: right;\">\n",
       "      <th></th>\n",
       "      <th>REASON_DebtCon</th>\n",
       "      <th>REASON_HomeImp</th>\n",
       "      <th>REASON</th>\n",
       "    </tr>\n",
       "  </thead>\n",
       "  <tbody>\n",
       "    <tr>\n",
       "      <th>5956</th>\n",
       "      <td>1</td>\n",
       "      <td>0</td>\n",
       "      <td>DebtCon</td>\n",
       "    </tr>\n",
       "    <tr>\n",
       "      <th>5957</th>\n",
       "      <td>1</td>\n",
       "      <td>0</td>\n",
       "      <td>DebtCon</td>\n",
       "    </tr>\n",
       "  </tbody>\n",
       "</table>\n",
       "</div>"
      ],
      "text/plain": [
       "      REASON_DebtCon  REASON_HomeImp   REASON\n",
       "5956               1               0  DebtCon\n",
       "5957               1               0  DebtCon"
      ]
     },
     "execution_count": 114,
     "metadata": {},
     "output_type": "execute_result"
    }
   ],
   "source": [
    "data_REASON_dummies2.tail(2)"
   ]
  },
  {
   "cell_type": "code",
   "execution_count": 115,
   "metadata": {},
   "outputs": [
    {
     "data": {
      "text/plain": [
       "1    4004\n",
       "0    1721\n",
       "Name: REASON_DebtCon, dtype: int64"
      ]
     },
     "execution_count": 115,
     "metadata": {},
     "output_type": "execute_result"
    }
   ],
   "source": [
    "data_REASON_dummies['REASON_DebtCon'].value_counts()"
   ]
  },
  {
   "cell_type": "code",
   "execution_count": 116,
   "metadata": {},
   "outputs": [
    {
     "data": {
      "text/plain": [
       "0    4004\n",
       "1    1721\n",
       "Name: REASON_HomeImp, dtype: int64"
      ]
     },
     "execution_count": 116,
     "metadata": {},
     "output_type": "execute_result"
    }
   ],
   "source": [
    "data_REASON_dummies['REASON_HomeImp'].value_counts()"
   ]
  },
  {
   "cell_type": "markdown",
   "metadata": {},
   "source": [
    "##### Seperti yang dilihat 2 column tersebut sebenarnya sama , oleh karena itu One Hot Encoding  BEST PRACTICE membuat column sebanyak (n-1) dimana n adalah jumlah distinct value\n",
    "\n",
    "##### Untuk kejadian ini , akan digunakan REASON_DebtCon "
   ]
  },
  {
   "cell_type": "code",
   "execution_count": 117,
   "metadata": {},
   "outputs": [],
   "source": [
    "data['REASON_DebtCon'] = data_REASON_dummies['REASON_DebtCon']"
   ]
  },
  {
   "cell_type": "code",
   "execution_count": 118,
   "metadata": {},
   "outputs": [
    {
     "data": {
      "text/html": [
       "<div>\n",
       "<style scoped>\n",
       "    .dataframe tbody tr th:only-of-type {\n",
       "        vertical-align: middle;\n",
       "    }\n",
       "\n",
       "    .dataframe tbody tr th {\n",
       "        vertical-align: top;\n",
       "    }\n",
       "\n",
       "    .dataframe thead th {\n",
       "        text-align: right;\n",
       "    }\n",
       "</style>\n",
       "<table border=\"1\" class=\"dataframe\">\n",
       "  <thead>\n",
       "    <tr style=\"text-align: right;\">\n",
       "      <th></th>\n",
       "      <th>BAD</th>\n",
       "      <th>LOAN</th>\n",
       "      <th>MORTDUE</th>\n",
       "      <th>VALUE</th>\n",
       "      <th>REASON</th>\n",
       "      <th>JOB</th>\n",
       "      <th>YOJ</th>\n",
       "      <th>DEROG</th>\n",
       "      <th>DELINQ</th>\n",
       "      <th>CLAGE</th>\n",
       "      <th>NINQ</th>\n",
       "      <th>CLNO</th>\n",
       "      <th>DEBTINC</th>\n",
       "      <th>REASON_DebtCon</th>\n",
       "    </tr>\n",
       "  </thead>\n",
       "  <tbody>\n",
       "    <tr>\n",
       "      <th>0</th>\n",
       "      <td>1</td>\n",
       "      <td>1100</td>\n",
       "      <td>25860.0</td>\n",
       "      <td>39025.0</td>\n",
       "      <td>HomeImp</td>\n",
       "      <td>3</td>\n",
       "      <td>10.5</td>\n",
       "      <td>0.0</td>\n",
       "      <td>0.0</td>\n",
       "      <td>94.366667</td>\n",
       "      <td>1.0</td>\n",
       "      <td>9.0</td>\n",
       "      <td>33.909004</td>\n",
       "      <td>0</td>\n",
       "    </tr>\n",
       "    <tr>\n",
       "      <th>1</th>\n",
       "      <td>1</td>\n",
       "      <td>1300</td>\n",
       "      <td>70053.0</td>\n",
       "      <td>68400.0</td>\n",
       "      <td>HomeImp</td>\n",
       "      <td>3</td>\n",
       "      <td>7.0</td>\n",
       "      <td>0.0</td>\n",
       "      <td>2.0</td>\n",
       "      <td>121.833333</td>\n",
       "      <td>0.0</td>\n",
       "      <td>14.0</td>\n",
       "      <td>33.909004</td>\n",
       "      <td>0</td>\n",
       "    </tr>\n",
       "    <tr>\n",
       "      <th>2</th>\n",
       "      <td>1</td>\n",
       "      <td>1500</td>\n",
       "      <td>13500.0</td>\n",
       "      <td>16700.0</td>\n",
       "      <td>HomeImp</td>\n",
       "      <td>3</td>\n",
       "      <td>4.0</td>\n",
       "      <td>0.0</td>\n",
       "      <td>0.0</td>\n",
       "      <td>149.466667</td>\n",
       "      <td>1.0</td>\n",
       "      <td>10.0</td>\n",
       "      <td>33.909004</td>\n",
       "      <td>0</td>\n",
       "    </tr>\n",
       "    <tr>\n",
       "      <th>4</th>\n",
       "      <td>0</td>\n",
       "      <td>1700</td>\n",
       "      <td>97800.0</td>\n",
       "      <td>112000.0</td>\n",
       "      <td>HomeImp</td>\n",
       "      <td>2</td>\n",
       "      <td>3.0</td>\n",
       "      <td>0.0</td>\n",
       "      <td>0.0</td>\n",
       "      <td>93.333333</td>\n",
       "      <td>0.0</td>\n",
       "      <td>14.0</td>\n",
       "      <td>33.909004</td>\n",
       "      <td>0</td>\n",
       "    </tr>\n",
       "    <tr>\n",
       "      <th>5</th>\n",
       "      <td>1</td>\n",
       "      <td>1700</td>\n",
       "      <td>30548.0</td>\n",
       "      <td>40320.0</td>\n",
       "      <td>HomeImp</td>\n",
       "      <td>3</td>\n",
       "      <td>9.0</td>\n",
       "      <td>0.0</td>\n",
       "      <td>0.0</td>\n",
       "      <td>101.466002</td>\n",
       "      <td>1.0</td>\n",
       "      <td>8.0</td>\n",
       "      <td>37.113614</td>\n",
       "      <td>0</td>\n",
       "    </tr>\n",
       "  </tbody>\n",
       "</table>\n",
       "</div>"
      ],
      "text/plain": [
       "   BAD  LOAN  MORTDUE     VALUE   REASON  JOB   YOJ  DEROG  DELINQ  \\\n",
       "0    1  1100  25860.0   39025.0  HomeImp    3  10.5    0.0     0.0   \n",
       "1    1  1300  70053.0   68400.0  HomeImp    3   7.0    0.0     2.0   \n",
       "2    1  1500  13500.0   16700.0  HomeImp    3   4.0    0.0     0.0   \n",
       "4    0  1700  97800.0  112000.0  HomeImp    2   3.0    0.0     0.0   \n",
       "5    1  1700  30548.0   40320.0  HomeImp    3   9.0    0.0     0.0   \n",
       "\n",
       "        CLAGE  NINQ  CLNO    DEBTINC  REASON_DebtCon  \n",
       "0   94.366667   1.0   9.0  33.909004               0  \n",
       "1  121.833333   0.0  14.0  33.909004               0  \n",
       "2  149.466667   1.0  10.0  33.909004               0  \n",
       "4   93.333333   0.0  14.0  33.909004               0  \n",
       "5  101.466002   1.0   8.0  37.113614               0  "
      ]
     },
     "execution_count": 118,
     "metadata": {},
     "output_type": "execute_result"
    }
   ],
   "source": [
    "data.head()"
   ]
  },
  {
   "cell_type": "markdown",
   "metadata": {},
   "source": [
    "##### DROP Column REASON karena sudah kita masukkan Column REASON_DebtCon "
   ]
  },
  {
   "cell_type": "code",
   "execution_count": 119,
   "metadata": {},
   "outputs": [],
   "source": [
    "data.drop('REASON', axis=1, inplace = True)"
   ]
  },
  {
   "cell_type": "code",
   "execution_count": 120,
   "metadata": {},
   "outputs": [
    {
     "data": {
      "text/html": [
       "<div>\n",
       "<style scoped>\n",
       "    .dataframe tbody tr th:only-of-type {\n",
       "        vertical-align: middle;\n",
       "    }\n",
       "\n",
       "    .dataframe tbody tr th {\n",
       "        vertical-align: top;\n",
       "    }\n",
       "\n",
       "    .dataframe thead th {\n",
       "        text-align: right;\n",
       "    }\n",
       "</style>\n",
       "<table border=\"1\" class=\"dataframe\">\n",
       "  <thead>\n",
       "    <tr style=\"text-align: right;\">\n",
       "      <th></th>\n",
       "      <th>BAD</th>\n",
       "      <th>LOAN</th>\n",
       "      <th>MORTDUE</th>\n",
       "      <th>VALUE</th>\n",
       "      <th>JOB</th>\n",
       "      <th>YOJ</th>\n",
       "      <th>DEROG</th>\n",
       "      <th>DELINQ</th>\n",
       "      <th>CLAGE</th>\n",
       "      <th>NINQ</th>\n",
       "      <th>CLNO</th>\n",
       "      <th>DEBTINC</th>\n",
       "      <th>REASON_DebtCon</th>\n",
       "    </tr>\n",
       "  </thead>\n",
       "  <tbody>\n",
       "    <tr>\n",
       "      <th>0</th>\n",
       "      <td>1</td>\n",
       "      <td>1100</td>\n",
       "      <td>25860.0</td>\n",
       "      <td>39025.0</td>\n",
       "      <td>3</td>\n",
       "      <td>10.5</td>\n",
       "      <td>0.0</td>\n",
       "      <td>0.0</td>\n",
       "      <td>94.366667</td>\n",
       "      <td>1.0</td>\n",
       "      <td>9.0</td>\n",
       "      <td>33.909004</td>\n",
       "      <td>0</td>\n",
       "    </tr>\n",
       "    <tr>\n",
       "      <th>1</th>\n",
       "      <td>1</td>\n",
       "      <td>1300</td>\n",
       "      <td>70053.0</td>\n",
       "      <td>68400.0</td>\n",
       "      <td>3</td>\n",
       "      <td>7.0</td>\n",
       "      <td>0.0</td>\n",
       "      <td>2.0</td>\n",
       "      <td>121.833333</td>\n",
       "      <td>0.0</td>\n",
       "      <td>14.0</td>\n",
       "      <td>33.909004</td>\n",
       "      <td>0</td>\n",
       "    </tr>\n",
       "    <tr>\n",
       "      <th>2</th>\n",
       "      <td>1</td>\n",
       "      <td>1500</td>\n",
       "      <td>13500.0</td>\n",
       "      <td>16700.0</td>\n",
       "      <td>3</td>\n",
       "      <td>4.0</td>\n",
       "      <td>0.0</td>\n",
       "      <td>0.0</td>\n",
       "      <td>149.466667</td>\n",
       "      <td>1.0</td>\n",
       "      <td>10.0</td>\n",
       "      <td>33.909004</td>\n",
       "      <td>0</td>\n",
       "    </tr>\n",
       "    <tr>\n",
       "      <th>4</th>\n",
       "      <td>0</td>\n",
       "      <td>1700</td>\n",
       "      <td>97800.0</td>\n",
       "      <td>112000.0</td>\n",
       "      <td>2</td>\n",
       "      <td>3.0</td>\n",
       "      <td>0.0</td>\n",
       "      <td>0.0</td>\n",
       "      <td>93.333333</td>\n",
       "      <td>0.0</td>\n",
       "      <td>14.0</td>\n",
       "      <td>33.909004</td>\n",
       "      <td>0</td>\n",
       "    </tr>\n",
       "    <tr>\n",
       "      <th>5</th>\n",
       "      <td>1</td>\n",
       "      <td>1700</td>\n",
       "      <td>30548.0</td>\n",
       "      <td>40320.0</td>\n",
       "      <td>3</td>\n",
       "      <td>9.0</td>\n",
       "      <td>0.0</td>\n",
       "      <td>0.0</td>\n",
       "      <td>101.466002</td>\n",
       "      <td>1.0</td>\n",
       "      <td>8.0</td>\n",
       "      <td>37.113614</td>\n",
       "      <td>0</td>\n",
       "    </tr>\n",
       "  </tbody>\n",
       "</table>\n",
       "</div>"
      ],
      "text/plain": [
       "   BAD  LOAN  MORTDUE     VALUE  JOB   YOJ  DEROG  DELINQ       CLAGE  NINQ  \\\n",
       "0    1  1100  25860.0   39025.0    3  10.5    0.0     0.0   94.366667   1.0   \n",
       "1    1  1300  70053.0   68400.0    3   7.0    0.0     2.0  121.833333   0.0   \n",
       "2    1  1500  13500.0   16700.0    3   4.0    0.0     0.0  149.466667   1.0   \n",
       "4    0  1700  97800.0  112000.0    2   3.0    0.0     0.0   93.333333   0.0   \n",
       "5    1  1700  30548.0   40320.0    3   9.0    0.0     0.0  101.466002   1.0   \n",
       "\n",
       "   CLNO    DEBTINC  REASON_DebtCon  \n",
       "0   9.0  33.909004               0  \n",
       "1  14.0  33.909004               0  \n",
       "2  10.0  33.909004               0  \n",
       "4  14.0  33.909004               0  \n",
       "5   8.0  37.113614               0  "
      ]
     },
     "execution_count": 120,
     "metadata": {},
     "output_type": "execute_result"
    }
   ],
   "source": [
    "data.head()"
   ]
  },
  {
   "cell_type": "markdown",
   "metadata": {},
   "source": [
    "### Melakukan korelasi antar setiap column, untuk visualisasi dapat menggunakan heatmap "
   ]
  },
  {
   "cell_type": "code",
   "execution_count": 121,
   "metadata": {},
   "outputs": [
    {
     "data": {
      "text/html": [
       "<div>\n",
       "<style scoped>\n",
       "    .dataframe tbody tr th:only-of-type {\n",
       "        vertical-align: middle;\n",
       "    }\n",
       "\n",
       "    .dataframe tbody tr th {\n",
       "        vertical-align: top;\n",
       "    }\n",
       "\n",
       "    .dataframe thead th {\n",
       "        text-align: right;\n",
       "    }\n",
       "</style>\n",
       "<table border=\"1\" class=\"dataframe\">\n",
       "  <thead>\n",
       "    <tr style=\"text-align: right;\">\n",
       "      <th></th>\n",
       "      <th>BAD</th>\n",
       "      <th>LOAN</th>\n",
       "      <th>MORTDUE</th>\n",
       "      <th>VALUE</th>\n",
       "      <th>JOB</th>\n",
       "      <th>YOJ</th>\n",
       "      <th>DEROG</th>\n",
       "      <th>DELINQ</th>\n",
       "      <th>CLAGE</th>\n",
       "      <th>NINQ</th>\n",
       "      <th>CLNO</th>\n",
       "      <th>DEBTINC</th>\n",
       "      <th>REASON_DebtCon</th>\n",
       "    </tr>\n",
       "  </thead>\n",
       "  <tbody>\n",
       "    <tr>\n",
       "      <th>BAD</th>\n",
       "      <td>1.000000</td>\n",
       "      <td>-0.084619</td>\n",
       "      <td>-0.048897</td>\n",
       "      <td>-0.028695</td>\n",
       "      <td>0.026078</td>\n",
       "      <td>-0.064174</td>\n",
       "      <td>0.263024</td>\n",
       "      <td>0.337493</td>\n",
       "      <td>-0.166522</td>\n",
       "      <td>0.178070</td>\n",
       "      <td>-0.003667</td>\n",
       "      <td>0.130469</td>\n",
       "      <td>-0.034979</td>\n",
       "    </tr>\n",
       "    <tr>\n",
       "      <th>LOAN</th>\n",
       "      <td>-0.084619</td>\n",
       "      <td>1.000000</td>\n",
       "      <td>0.213469</td>\n",
       "      <td>0.327799</td>\n",
       "      <td>0.070402</td>\n",
       "      <td>0.107869</td>\n",
       "      <td>-0.005267</td>\n",
       "      <td>-0.042978</td>\n",
       "      <td>0.088475</td>\n",
       "      <td>0.042754</td>\n",
       "      <td>0.073814</td>\n",
       "      <td>0.069216</td>\n",
       "      <td>0.151095</td>\n",
       "    </tr>\n",
       "    <tr>\n",
       "      <th>MORTDUE</th>\n",
       "      <td>-0.048897</td>\n",
       "      <td>0.213469</td>\n",
       "      <td>1.000000</td>\n",
       "      <td>0.800993</td>\n",
       "      <td>0.129176</td>\n",
       "      <td>-0.080314</td>\n",
       "      <td>-0.041562</td>\n",
       "      <td>-0.005150</td>\n",
       "      <td>0.127372</td>\n",
       "      <td>0.035813</td>\n",
       "      <td>0.320095</td>\n",
       "      <td>0.141946</td>\n",
       "      <td>0.032386</td>\n",
       "    </tr>\n",
       "    <tr>\n",
       "      <th>VALUE</th>\n",
       "      <td>-0.028695</td>\n",
       "      <td>0.327799</td>\n",
       "      <td>0.800993</td>\n",
       "      <td>1.000000</td>\n",
       "      <td>0.168176</td>\n",
       "      <td>0.006403</td>\n",
       "      <td>-0.044360</td>\n",
       "      <td>-0.005652</td>\n",
       "      <td>0.169894</td>\n",
       "      <td>-0.002495</td>\n",
       "      <td>0.268763</td>\n",
       "      <td>0.115836</td>\n",
       "      <td>0.000830</td>\n",
       "    </tr>\n",
       "    <tr>\n",
       "      <th>JOB</th>\n",
       "      <td>0.026078</td>\n",
       "      <td>0.070402</td>\n",
       "      <td>0.129176</td>\n",
       "      <td>0.168176</td>\n",
       "      <td>1.000000</td>\n",
       "      <td>-0.036036</td>\n",
       "      <td>-0.012023</td>\n",
       "      <td>-0.032932</td>\n",
       "      <td>0.055243</td>\n",
       "      <td>-0.044648</td>\n",
       "      <td>0.047196</td>\n",
       "      <td>-0.044664</td>\n",
       "      <td>-0.085708</td>\n",
       "    </tr>\n",
       "    <tr>\n",
       "      <th>YOJ</th>\n",
       "      <td>-0.064174</td>\n",
       "      <td>0.107869</td>\n",
       "      <td>-0.080314</td>\n",
       "      <td>0.006403</td>\n",
       "      <td>-0.036036</td>\n",
       "      <td>1.000000</td>\n",
       "      <td>-0.058533</td>\n",
       "      <td>0.048793</td>\n",
       "      <td>0.193724</td>\n",
       "      <td>-0.064587</td>\n",
       "      <td>0.021062</td>\n",
       "      <td>-0.048707</td>\n",
       "      <td>-0.045092</td>\n",
       "    </tr>\n",
       "    <tr>\n",
       "      <th>DEROG</th>\n",
       "      <td>0.263024</td>\n",
       "      <td>-0.005267</td>\n",
       "      <td>-0.041562</td>\n",
       "      <td>-0.044360</td>\n",
       "      <td>-0.012023</td>\n",
       "      <td>-0.058533</td>\n",
       "      <td>1.000000</td>\n",
       "      <td>0.157810</td>\n",
       "      <td>-0.080236</td>\n",
       "      <td>0.151230</td>\n",
       "      <td>0.056310</td>\n",
       "      <td>0.009777</td>\n",
       "      <td>0.009680</td>\n",
       "    </tr>\n",
       "    <tr>\n",
       "      <th>DELINQ</th>\n",
       "      <td>0.337493</td>\n",
       "      <td>-0.042978</td>\n",
       "      <td>-0.005150</td>\n",
       "      <td>-0.005652</td>\n",
       "      <td>-0.032932</td>\n",
       "      <td>0.048793</td>\n",
       "      <td>0.157810</td>\n",
       "      <td>1.000000</td>\n",
       "      <td>0.024541</td>\n",
       "      <td>0.062270</td>\n",
       "      <td>0.160139</td>\n",
       "      <td>0.042686</td>\n",
       "      <td>-0.006888</td>\n",
       "    </tr>\n",
       "    <tr>\n",
       "      <th>CLAGE</th>\n",
       "      <td>-0.166522</td>\n",
       "      <td>0.088475</td>\n",
       "      <td>0.127372</td>\n",
       "      <td>0.169894</td>\n",
       "      <td>0.055243</td>\n",
       "      <td>0.193724</td>\n",
       "      <td>-0.080236</td>\n",
       "      <td>0.024541</td>\n",
       "      <td>1.000000</td>\n",
       "      <td>-0.111642</td>\n",
       "      <td>0.227025</td>\n",
       "      <td>-0.038442</td>\n",
       "      <td>-0.050793</td>\n",
       "    </tr>\n",
       "    <tr>\n",
       "      <th>NINQ</th>\n",
       "      <td>0.178070</td>\n",
       "      <td>0.042754</td>\n",
       "      <td>0.035813</td>\n",
       "      <td>-0.002495</td>\n",
       "      <td>-0.044648</td>\n",
       "      <td>-0.064587</td>\n",
       "      <td>0.151230</td>\n",
       "      <td>0.062270</td>\n",
       "      <td>-0.111642</td>\n",
       "      <td>1.000000</td>\n",
       "      <td>0.086320</td>\n",
       "      <td>0.114344</td>\n",
       "      <td>0.114550</td>\n",
       "    </tr>\n",
       "    <tr>\n",
       "      <th>CLNO</th>\n",
       "      <td>-0.003667</td>\n",
       "      <td>0.073814</td>\n",
       "      <td>0.320095</td>\n",
       "      <td>0.268763</td>\n",
       "      <td>0.047196</td>\n",
       "      <td>0.021062</td>\n",
       "      <td>0.056310</td>\n",
       "      <td>0.160139</td>\n",
       "      <td>0.227025</td>\n",
       "      <td>0.086320</td>\n",
       "      <td>1.000000</td>\n",
       "      <td>0.162941</td>\n",
       "      <td>0.106977</td>\n",
       "    </tr>\n",
       "    <tr>\n",
       "      <th>DEBTINC</th>\n",
       "      <td>0.130469</td>\n",
       "      <td>0.069216</td>\n",
       "      <td>0.141946</td>\n",
       "      <td>0.115836</td>\n",
       "      <td>-0.044664</td>\n",
       "      <td>-0.048707</td>\n",
       "      <td>0.009777</td>\n",
       "      <td>0.042686</td>\n",
       "      <td>-0.038442</td>\n",
       "      <td>0.114344</td>\n",
       "      <td>0.162941</td>\n",
       "      <td>1.000000</td>\n",
       "      <td>0.039495</td>\n",
       "    </tr>\n",
       "    <tr>\n",
       "      <th>REASON_DebtCon</th>\n",
       "      <td>-0.034979</td>\n",
       "      <td>0.151095</td>\n",
       "      <td>0.032386</td>\n",
       "      <td>0.000830</td>\n",
       "      <td>-0.085708</td>\n",
       "      <td>-0.045092</td>\n",
       "      <td>0.009680</td>\n",
       "      <td>-0.006888</td>\n",
       "      <td>-0.050793</td>\n",
       "      <td>0.114550</td>\n",
       "      <td>0.106977</td>\n",
       "      <td>0.039495</td>\n",
       "      <td>1.000000</td>\n",
       "    </tr>\n",
       "  </tbody>\n",
       "</table>\n",
       "</div>"
      ],
      "text/plain": [
       "                     BAD      LOAN   MORTDUE     VALUE       JOB       YOJ  \\\n",
       "BAD             1.000000 -0.084619 -0.048897 -0.028695  0.026078 -0.064174   \n",
       "LOAN           -0.084619  1.000000  0.213469  0.327799  0.070402  0.107869   \n",
       "MORTDUE        -0.048897  0.213469  1.000000  0.800993  0.129176 -0.080314   \n",
       "VALUE          -0.028695  0.327799  0.800993  1.000000  0.168176  0.006403   \n",
       "JOB             0.026078  0.070402  0.129176  0.168176  1.000000 -0.036036   \n",
       "YOJ            -0.064174  0.107869 -0.080314  0.006403 -0.036036  1.000000   \n",
       "DEROG           0.263024 -0.005267 -0.041562 -0.044360 -0.012023 -0.058533   \n",
       "DELINQ          0.337493 -0.042978 -0.005150 -0.005652 -0.032932  0.048793   \n",
       "CLAGE          -0.166522  0.088475  0.127372  0.169894  0.055243  0.193724   \n",
       "NINQ            0.178070  0.042754  0.035813 -0.002495 -0.044648 -0.064587   \n",
       "CLNO           -0.003667  0.073814  0.320095  0.268763  0.047196  0.021062   \n",
       "DEBTINC         0.130469  0.069216  0.141946  0.115836 -0.044664 -0.048707   \n",
       "REASON_DebtCon -0.034979  0.151095  0.032386  0.000830 -0.085708 -0.045092   \n",
       "\n",
       "                   DEROG    DELINQ     CLAGE      NINQ      CLNO   DEBTINC  \\\n",
       "BAD             0.263024  0.337493 -0.166522  0.178070 -0.003667  0.130469   \n",
       "LOAN           -0.005267 -0.042978  0.088475  0.042754  0.073814  0.069216   \n",
       "MORTDUE        -0.041562 -0.005150  0.127372  0.035813  0.320095  0.141946   \n",
       "VALUE          -0.044360 -0.005652  0.169894 -0.002495  0.268763  0.115836   \n",
       "JOB            -0.012023 -0.032932  0.055243 -0.044648  0.047196 -0.044664   \n",
       "YOJ            -0.058533  0.048793  0.193724 -0.064587  0.021062 -0.048707   \n",
       "DEROG           1.000000  0.157810 -0.080236  0.151230  0.056310  0.009777   \n",
       "DELINQ          0.157810  1.000000  0.024541  0.062270  0.160139  0.042686   \n",
       "CLAGE          -0.080236  0.024541  1.000000 -0.111642  0.227025 -0.038442   \n",
       "NINQ            0.151230  0.062270 -0.111642  1.000000  0.086320  0.114344   \n",
       "CLNO            0.056310  0.160139  0.227025  0.086320  1.000000  0.162941   \n",
       "DEBTINC         0.009777  0.042686 -0.038442  0.114344  0.162941  1.000000   \n",
       "REASON_DebtCon  0.009680 -0.006888 -0.050793  0.114550  0.106977  0.039495   \n",
       "\n",
       "                REASON_DebtCon  \n",
       "BAD                  -0.034979  \n",
       "LOAN                  0.151095  \n",
       "MORTDUE               0.032386  \n",
       "VALUE                 0.000830  \n",
       "JOB                  -0.085708  \n",
       "YOJ                  -0.045092  \n",
       "DEROG                 0.009680  \n",
       "DELINQ               -0.006888  \n",
       "CLAGE                -0.050793  \n",
       "NINQ                  0.114550  \n",
       "CLNO                  0.106977  \n",
       "DEBTINC               0.039495  \n",
       "REASON_DebtCon        1.000000  "
      ]
     },
     "execution_count": 121,
     "metadata": {},
     "output_type": "execute_result"
    }
   ],
   "source": [
    "data.corr()"
   ]
  },
  {
   "cell_type": "code",
   "execution_count": 122,
   "metadata": {},
   "outputs": [],
   "source": [
    "corr = data.corr()"
   ]
  },
  {
   "cell_type": "code",
   "execution_count": 123,
   "metadata": {},
   "outputs": [
    {
     "data": {
      "text/plain": [
       "<matplotlib.axes._subplots.AxesSubplot at 0x1a21ff9400>"
      ]
     },
     "execution_count": 123,
     "metadata": {},
     "output_type": "execute_result"
    },
    {
     "data": {
      "image/png": "[encoded data removed]",
      "text/plain": [
       "<matplotlib.figure.Figure at 0x1a21eafe10>"
      ]
     },
     "metadata": {},
     "output_type": "display_data"
    }
   ],
   "source": [
    "sns.heatmap(corr,xticklabels=corr.columns, yticklabels=corr.columns)"
   ]
  },
  {
   "cell_type": "markdown",
   "metadata": {},
   "source": [
    "## Data after being preprocess "
   ]
  },
  {
   "cell_type": "code",
   "execution_count": 124,
   "metadata": {},
   "outputs": [
    {
     "name": "stdout",
     "output_type": "stream",
     "text": [
      "<class 'pandas.core.frame.DataFrame'>\n",
      "Int64Index: 5725 entries, 0 to 5957\n",
      "Data columns (total 13 columns):\n",
      "BAD               5725 non-null int64\n",
      "LOAN              5725 non-null int64\n",
      "MORTDUE           5725 non-null float64\n",
      "VALUE             5725 non-null float64\n",
      "JOB               5725 non-null int64\n",
      "YOJ               5725 non-null float64\n",
      "DEROG             5725 non-null float64\n",
      "DELINQ            5725 non-null float64\n",
      "CLAGE             5725 non-null float64\n",
      "NINQ              5725 non-null float64\n",
      "CLNO              5725 non-null float64\n",
      "DEBTINC           5725 non-null float64\n",
      "REASON_DebtCon    5725 non-null uint8\n",
      "dtypes: float64(9), int64(3), uint8(1)\n",
      "memory usage: 587.0 KB\n"
     ]
    }
   ],
   "source": [
    "data.info()"
   ]
  },
  {
   "cell_type": "code",
   "execution_count": 125,
   "metadata": {},
   "outputs": [
    {
     "data": {
      "text/html": [
       "<div>\n",
       "<style scoped>\n",
       "    .dataframe tbody tr th:only-of-type {\n",
       "        vertical-align: middle;\n",
       "    }\n",
       "\n",
       "    .dataframe tbody tr th {\n",
       "        vertical-align: top;\n",
       "    }\n",
       "\n",
       "    .dataframe thead th {\n",
       "        text-align: right;\n",
       "    }\n",
       "</style>\n",
       "<table border=\"1\" class=\"dataframe\">\n",
       "  <thead>\n",
       "    <tr style=\"text-align: right;\">\n",
       "      <th></th>\n",
       "      <th>BAD</th>\n",
       "      <th>LOAN</th>\n",
       "      <th>MORTDUE</th>\n",
       "      <th>VALUE</th>\n",
       "      <th>JOB</th>\n",
       "      <th>YOJ</th>\n",
       "      <th>DEROG</th>\n",
       "      <th>DELINQ</th>\n",
       "      <th>CLAGE</th>\n",
       "      <th>NINQ</th>\n",
       "      <th>CLNO</th>\n",
       "      <th>DEBTINC</th>\n",
       "      <th>REASON_DebtCon</th>\n",
       "    </tr>\n",
       "  </thead>\n",
       "  <tbody>\n",
       "    <tr>\n",
       "      <th>count</th>\n",
       "      <td>5725.000000</td>\n",
       "      <td>5725.000000</td>\n",
       "      <td>5725.000000</td>\n",
       "      <td>5725.000000</td>\n",
       "      <td>5725.000000</td>\n",
       "      <td>5725.000000</td>\n",
       "      <td>5725.000000</td>\n",
       "      <td>5725.000000</td>\n",
       "      <td>5725.000000</td>\n",
       "      <td>5725.000000</td>\n",
       "      <td>5725.000000</td>\n",
       "      <td>5725.000000</td>\n",
       "      <td>5725.000000</td>\n",
       "    </tr>\n",
       "    <tr>\n",
       "      <th>mean</th>\n",
       "      <td>0.184978</td>\n",
       "      <td>18720.943231</td>\n",
       "      <td>73210.006498</td>\n",
       "      <td>102109.880793</td>\n",
       "      <td>2.931703</td>\n",
       "      <td>8.910620</td>\n",
       "      <td>0.216594</td>\n",
       "      <td>0.390568</td>\n",
       "      <td>180.114809</td>\n",
       "      <td>1.172402</td>\n",
       "      <td>21.272664</td>\n",
       "      <td>33.909004</td>\n",
       "      <td>0.699389</td>\n",
       "    </tr>\n",
       "    <tr>\n",
       "      <th>std</th>\n",
       "      <td>0.388314</td>\n",
       "      <td>11272.533601</td>\n",
       "      <td>42649.148742</td>\n",
       "      <td>57599.866871</td>\n",
       "      <td>1.127006</td>\n",
       "      <td>7.286963</td>\n",
       "      <td>0.777638</td>\n",
       "      <td>1.041646</td>\n",
       "      <td>84.708197</td>\n",
       "      <td>1.668596</td>\n",
       "      <td>10.029580</td>\n",
       "      <td>7.624149</td>\n",
       "      <td>0.458564</td>\n",
       "    </tr>\n",
       "    <tr>\n",
       "      <th>min</th>\n",
       "      <td>0.000000</td>\n",
       "      <td>1100.000000</td>\n",
       "      <td>2063.000000</td>\n",
       "      <td>8000.000000</td>\n",
       "      <td>1.000000</td>\n",
       "      <td>0.000000</td>\n",
       "      <td>0.000000</td>\n",
       "      <td>0.000000</td>\n",
       "      <td>0.000000</td>\n",
       "      <td>0.000000</td>\n",
       "      <td>0.000000</td>\n",
       "      <td>0.000000</td>\n",
       "      <td>0.000000</td>\n",
       "    </tr>\n",
       "    <tr>\n",
       "      <th>25%</th>\n",
       "      <td>0.000000</td>\n",
       "      <td>11200.000000</td>\n",
       "      <td>48100.000000</td>\n",
       "      <td>66226.000000</td>\n",
       "      <td>2.000000</td>\n",
       "      <td>3.000000</td>\n",
       "      <td>0.000000</td>\n",
       "      <td>0.000000</td>\n",
       "      <td>116.632733</td>\n",
       "      <td>0.000000</td>\n",
       "      <td>15.000000</td>\n",
       "      <td>30.708487</td>\n",
       "      <td>0.000000</td>\n",
       "    </tr>\n",
       "    <tr>\n",
       "      <th>50%</th>\n",
       "      <td>0.000000</td>\n",
       "      <td>16400.000000</td>\n",
       "      <td>65021.000000</td>\n",
       "      <td>89634.000000</td>\n",
       "      <td>3.000000</td>\n",
       "      <td>8.000000</td>\n",
       "      <td>0.000000</td>\n",
       "      <td>0.000000</td>\n",
       "      <td>176.533333</td>\n",
       "      <td>1.000000</td>\n",
       "      <td>20.000000</td>\n",
       "      <td>33.909004</td>\n",
       "      <td>1.000000</td>\n",
       "    </tr>\n",
       "    <tr>\n",
       "      <th>75%</th>\n",
       "      <td>0.000000</td>\n",
       "      <td>23400.000000</td>\n",
       "      <td>88898.000000</td>\n",
       "      <td>119780.000000</td>\n",
       "      <td>4.000000</td>\n",
       "      <td>12.000000</td>\n",
       "      <td>0.000000</td>\n",
       "      <td>0.000000</td>\n",
       "      <td>229.474919</td>\n",
       "      <td>2.000000</td>\n",
       "      <td>26.000000</td>\n",
       "      <td>38.078963</td>\n",
       "      <td>1.000000</td>\n",
       "    </tr>\n",
       "    <tr>\n",
       "      <th>max</th>\n",
       "      <td>1.000000</td>\n",
       "      <td>89900.000000</td>\n",
       "      <td>399412.000000</td>\n",
       "      <td>855909.000000</td>\n",
       "      <td>6.000000</td>\n",
       "      <td>41.000000</td>\n",
       "      <td>10.000000</td>\n",
       "      <td>15.000000</td>\n",
       "      <td>1168.233561</td>\n",
       "      <td>17.000000</td>\n",
       "      <td>65.000000</td>\n",
       "      <td>203.312149</td>\n",
       "      <td>1.000000</td>\n",
       "    </tr>\n",
       "  </tbody>\n",
       "</table>\n",
       "</div>"
      ],
      "text/plain": [
       "               BAD          LOAN        MORTDUE          VALUE          JOB  \\\n",
       "count  5725.000000   5725.000000    5725.000000    5725.000000  5725.000000   \n",
       "mean      0.184978  18720.943231   73210.006498  102109.880793     2.931703   \n",
       "std       0.388314  11272.533601   42649.148742   57599.866871     1.127006   \n",
       "min       0.000000   1100.000000    2063.000000    8000.000000     1.000000   \n",
       "25%       0.000000  11200.000000   48100.000000   66226.000000     2.000000   \n",
       "50%       0.000000  16400.000000   65021.000000   89634.000000     3.000000   \n",
       "75%       0.000000  23400.000000   88898.000000  119780.000000     4.000000   \n",
       "max       1.000000  89900.000000  399412.000000  855909.000000     6.000000   \n",
       "\n",
       "               YOJ        DEROG       DELINQ        CLAGE         NINQ  \\\n",
       "count  5725.000000  5725.000000  5725.000000  5725.000000  5725.000000   \n",
       "mean      8.910620     0.216594     0.390568   180.114809     1.172402   \n",
       "std       7.286963     0.777638     1.041646    84.708197     1.668596   \n",
       "min       0.000000     0.000000     0.000000     0.000000     0.000000   \n",
       "25%       3.000000     0.000000     0.000000   116.632733     0.000000   \n",
       "50%       8.000000     0.000000     0.000000   176.533333     1.000000   \n",
       "75%      12.000000     0.000000     0.000000   229.474919     2.000000   \n",
       "max      41.000000    10.000000    15.000000  1168.233561    17.000000   \n",
       "\n",
       "              CLNO      DEBTINC  REASON_DebtCon  \n",
       "count  5725.000000  5725.000000     5725.000000  \n",
       "mean     21.272664    33.909004        0.699389  \n",
       "std      10.029580     7.624149        0.458564  \n",
       "min       0.000000     0.000000        0.000000  \n",
       "25%      15.000000    30.708487        0.000000  \n",
       "50%      20.000000    33.909004        1.000000  \n",
       "75%      26.000000    38.078963        1.000000  \n",
       "max      65.000000   203.312149        1.000000  "
      ]
     },
     "execution_count": 125,
     "metadata": {},
     "output_type": "execute_result"
    }
   ],
   "source": [
    "data.describe()"
   ]
  },
  {
   "cell_type": "code",
   "execution_count": 126,
   "metadata": {},
   "outputs": [
    {
     "data": {
      "text/html": [
       "<div>\n",
       "<style scoped>\n",
       "    .dataframe tbody tr th:only-of-type {\n",
       "        vertical-align: middle;\n",
       "    }\n",
       "\n",
       "    .dataframe tbody tr th {\n",
       "        vertical-align: top;\n",
       "    }\n",
       "\n",
       "    .dataframe thead th {\n",
       "        text-align: right;\n",
       "    }\n",
       "</style>\n",
       "<table border=\"1\" class=\"dataframe\">\n",
       "  <thead>\n",
       "    <tr style=\"text-align: right;\">\n",
       "      <th></th>\n",
       "      <th>BAD</th>\n",
       "      <th>LOAN</th>\n",
       "      <th>MORTDUE</th>\n",
       "      <th>VALUE</th>\n",
       "      <th>JOB</th>\n",
       "      <th>YOJ</th>\n",
       "      <th>DEROG</th>\n",
       "      <th>DELINQ</th>\n",
       "      <th>CLAGE</th>\n",
       "      <th>NINQ</th>\n",
       "      <th>CLNO</th>\n",
       "      <th>DEBTINC</th>\n",
       "      <th>REASON_DebtCon</th>\n",
       "    </tr>\n",
       "  </thead>\n",
       "  <tbody>\n",
       "    <tr>\n",
       "      <th>0</th>\n",
       "      <td>1</td>\n",
       "      <td>1100</td>\n",
       "      <td>25860.0</td>\n",
       "      <td>39025.0</td>\n",
       "      <td>3</td>\n",
       "      <td>10.5</td>\n",
       "      <td>0.0</td>\n",
       "      <td>0.0</td>\n",
       "      <td>94.366667</td>\n",
       "      <td>1.0</td>\n",
       "      <td>9.0</td>\n",
       "      <td>33.909004</td>\n",
       "      <td>0</td>\n",
       "    </tr>\n",
       "    <tr>\n",
       "      <th>1</th>\n",
       "      <td>1</td>\n",
       "      <td>1300</td>\n",
       "      <td>70053.0</td>\n",
       "      <td>68400.0</td>\n",
       "      <td>3</td>\n",
       "      <td>7.0</td>\n",
       "      <td>0.0</td>\n",
       "      <td>2.0</td>\n",
       "      <td>121.833333</td>\n",
       "      <td>0.0</td>\n",
       "      <td>14.0</td>\n",
       "      <td>33.909004</td>\n",
       "      <td>0</td>\n",
       "    </tr>\n",
       "  </tbody>\n",
       "</table>\n",
       "</div>"
      ],
      "text/plain": [
       "   BAD  LOAN  MORTDUE    VALUE  JOB   YOJ  DEROG  DELINQ       CLAGE  NINQ  \\\n",
       "0    1  1100  25860.0  39025.0    3  10.5    0.0     0.0   94.366667   1.0   \n",
       "1    1  1300  70053.0  68400.0    3   7.0    0.0     2.0  121.833333   0.0   \n",
       "\n",
       "   CLNO    DEBTINC  REASON_DebtCon  \n",
       "0   9.0  33.909004               0  \n",
       "1  14.0  33.909004               0  "
      ]
     },
     "execution_count": 126,
     "metadata": {},
     "output_type": "execute_result"
    }
   ],
   "source": [
    "data.head(2)"
   ]
  },
  {
   "cell_type": "code",
   "execution_count": 128,
   "metadata": {},
   "outputs": [],
   "source": [
    "data.to_csv('hmeq_prepro.csv')"
   ]
  },
  {
   "cell_type": "markdown",
   "metadata": {},
   "source": [
    "## What have been DONE:\n",
    "### - Delete Invalid Data and extreme outliers\n",
    "### - Handle Missing Value \n",
    "### - Create some visualisation to get insight\n",
    "### - Change Categorical String Columns into Categorical Numerical Columns "
   ]
  },
  {
   "cell_type": "markdown",
   "metadata": {},
   "source": [
    "# THANK YOU for your time to read this!! :)"
   ]
  }
 ],
 "metadata": {
  "kernelspec": {
   "display_name": "Python 3",
   "language": "python",
   "name": "python3"
  },
  "language_info": {
   "codemirror_mode": {
    "name": "ipython",
    "version": 3
   },
   "file_extension": ".py",
   "mimetype": "text/x-python",
   "name": "python",
   "nbconvert_exporter": "python",
   "pygments_lexer": "ipython3",
   "version": "3.7.4"
  }
 },
 "nbformat": 4,
 "nbformat_minor": 2
}
